{
 "cells": [
  {
   "cell_type": "markdown",
   "id": "d7b317b3-d9b6-49b5-a1a3-b5e206f28fd9",
   "metadata": {},
   "source": [
    "# Project - Airbnb Analysis"
   ]
  },
  {
   "cell_type": "markdown",
   "id": "1d9f92dc-d45c-4a32-af63-a5ee71c49623",
   "metadata": {
    "tags": []
   },
   "source": [
    "### Understanding the Data"
   ]
  },
  {
   "cell_type": "markdown",
   "id": "177e9887-5a5a-4cab-8c5f-5b825620ceb1",
   "metadata": {},
   "source": [
    "##### Importing required libraries:"
   ]
  },
  {
   "cell_type": "code",
   "execution_count": 601,
   "id": "eb0ba59e-b566-4e90-b278-d4cc39de32c2",
   "metadata": {
    "tags": []
   },
   "outputs": [],
   "source": [
    "import pandas as pd\n",
    "import numpy as np\n",
    "import matplotlib.pyplot as plt \n",
    "import seaborn as sns\n",
    "\n",
    "%matplotlib inline"
   ]
  },
  {
   "cell_type": "code",
   "execution_count": 602,
   "id": "deb7eee5-ff64-4de7-ab36-0fb6ec0fe6a7",
   "metadata": {
    "tags": []
   },
   "outputs": [
    {
     "data": {
      "text/plain": [
       "'0.12.2'"
      ]
     },
     "execution_count": 602,
     "metadata": {},
     "output_type": "execute_result"
    }
   ],
   "source": [
    "sns.__version__"
   ]
  },
  {
   "cell_type": "markdown",
   "id": "0c2610d0-93ac-4bdb-92c6-4d83c78cd8ec",
   "metadata": {},
   "source": [
    "##### Reading in the CSV and saving as a DataFrame, using pandas to read the CSV file and store the data in a DataFrame:"
   ]
  },
  {
   "cell_type": "code",
   "execution_count": 603,
   "id": "5a0cb5d0-19dd-4808-b31f-7ec2ba2d61bc",
   "metadata": {
    "tags": []
   },
   "outputs": [
    {
     "name": "stderr",
     "output_type": "stream",
     "text": [
      "/var/folders/nc/f2jdrgpj05s4p97dzdvrq7tm0000gn/T/ipykernel_59323/3369485260.py:1: DtypeWarning: Columns (25) have mixed types. Specify dtype option on import or set low_memory=False.\n",
      "  df = pd.read_csv('data/Airbnb_Open_Data.csv')\n"
     ]
    }
   ],
   "source": [
    "df = pd.read_csv('data/Airbnb_Open_Data.csv')"
   ]
  },
  {
   "cell_type": "markdown",
   "id": "2bd6e08f-42a7-4810-903d-e0f95cb539f1",
   "metadata": {
    "tags": []
   },
   "source": [
    "##### Checking first 5 rows to get an overview of what the data looks like:"
   ]
  },
  {
   "cell_type": "code",
   "execution_count": 604,
   "id": "44b87a4c-1dcd-4690-85e4-251d8a481008",
   "metadata": {
    "tags": []
   },
   "outputs": [
    {
     "data": {
      "text/html": [
       "<div>\n",
       "<style scoped>\n",
       "    .dataframe tbody tr th:only-of-type {\n",
       "        vertical-align: middle;\n",
       "    }\n",
       "\n",
       "    .dataframe tbody tr th {\n",
       "        vertical-align: top;\n",
       "    }\n",
       "\n",
       "    .dataframe thead th {\n",
       "        text-align: right;\n",
       "    }\n",
       "</style>\n",
       "<table border=\"1\" class=\"dataframe\">\n",
       "  <thead>\n",
       "    <tr style=\"text-align: right;\">\n",
       "      <th></th>\n",
       "      <th>id</th>\n",
       "      <th>NAME</th>\n",
       "      <th>host id</th>\n",
       "      <th>host_identity_verified</th>\n",
       "      <th>host name</th>\n",
       "      <th>neighbourhood group</th>\n",
       "      <th>neighbourhood</th>\n",
       "      <th>lat</th>\n",
       "      <th>long</th>\n",
       "      <th>country</th>\n",
       "      <th>country code</th>\n",
       "      <th>instant_bookable</th>\n",
       "      <th>cancellation_policy</th>\n",
       "      <th>room type</th>\n",
       "      <th>Construction year</th>\n",
       "      <th>price</th>\n",
       "      <th>service fee</th>\n",
       "      <th>minimum nights</th>\n",
       "      <th>number of reviews</th>\n",
       "      <th>last review</th>\n",
       "      <th>reviews per month</th>\n",
       "      <th>review rate number</th>\n",
       "      <th>calculated host listings count</th>\n",
       "      <th>availability 365</th>\n",
       "      <th>house_rules</th>\n",
       "      <th>license</th>\n",
       "    </tr>\n",
       "  </thead>\n",
       "  <tbody>\n",
       "    <tr>\n",
       "      <th>0</th>\n",
       "      <td>1001254</td>\n",
       "      <td>Clean &amp; quiet apt home by the park</td>\n",
       "      <td>80014485718</td>\n",
       "      <td>unconfirmed</td>\n",
       "      <td>Madaline</td>\n",
       "      <td>Brooklyn</td>\n",
       "      <td>Kensington</td>\n",
       "      <td>40.64749</td>\n",
       "      <td>-73.97237</td>\n",
       "      <td>United States</td>\n",
       "      <td>US</td>\n",
       "      <td>False</td>\n",
       "      <td>strict</td>\n",
       "      <td>Private room</td>\n",
       "      <td>2020.0</td>\n",
       "      <td>$966</td>\n",
       "      <td>$193</td>\n",
       "      <td>10.0</td>\n",
       "      <td>9.0</td>\n",
       "      <td>10/19/2021</td>\n",
       "      <td>0.21</td>\n",
       "      <td>4.0</td>\n",
       "      <td>6.0</td>\n",
       "      <td>286.0</td>\n",
       "      <td>Clean up and treat the home the way you'd like...</td>\n",
       "      <td>NaN</td>\n",
       "    </tr>\n",
       "    <tr>\n",
       "      <th>1</th>\n",
       "      <td>1002102</td>\n",
       "      <td>Skylit Midtown Castle</td>\n",
       "      <td>52335172823</td>\n",
       "      <td>verified</td>\n",
       "      <td>Jenna</td>\n",
       "      <td>Manhattan</td>\n",
       "      <td>Midtown</td>\n",
       "      <td>40.75362</td>\n",
       "      <td>-73.98377</td>\n",
       "      <td>United States</td>\n",
       "      <td>US</td>\n",
       "      <td>False</td>\n",
       "      <td>moderate</td>\n",
       "      <td>Entire home/apt</td>\n",
       "      <td>2007.0</td>\n",
       "      <td>$142</td>\n",
       "      <td>$28</td>\n",
       "      <td>30.0</td>\n",
       "      <td>45.0</td>\n",
       "      <td>5/21/2022</td>\n",
       "      <td>0.38</td>\n",
       "      <td>4.0</td>\n",
       "      <td>2.0</td>\n",
       "      <td>228.0</td>\n",
       "      <td>Pet friendly but please confirm with me if the...</td>\n",
       "      <td>NaN</td>\n",
       "    </tr>\n",
       "    <tr>\n",
       "      <th>2</th>\n",
       "      <td>1002403</td>\n",
       "      <td>THE VILLAGE OF HARLEM....NEW YORK !</td>\n",
       "      <td>78829239556</td>\n",
       "      <td>NaN</td>\n",
       "      <td>Elise</td>\n",
       "      <td>Manhattan</td>\n",
       "      <td>Harlem</td>\n",
       "      <td>40.80902</td>\n",
       "      <td>-73.94190</td>\n",
       "      <td>United States</td>\n",
       "      <td>US</td>\n",
       "      <td>True</td>\n",
       "      <td>flexible</td>\n",
       "      <td>Private room</td>\n",
       "      <td>2005.0</td>\n",
       "      <td>$620</td>\n",
       "      <td>$124</td>\n",
       "      <td>3.0</td>\n",
       "      <td>0.0</td>\n",
       "      <td>NaN</td>\n",
       "      <td>NaN</td>\n",
       "      <td>5.0</td>\n",
       "      <td>1.0</td>\n",
       "      <td>352.0</td>\n",
       "      <td>I encourage you to use my kitchen, cooking and...</td>\n",
       "      <td>NaN</td>\n",
       "    </tr>\n",
       "    <tr>\n",
       "      <th>3</th>\n",
       "      <td>1002755</td>\n",
       "      <td>NaN</td>\n",
       "      <td>85098326012</td>\n",
       "      <td>unconfirmed</td>\n",
       "      <td>Garry</td>\n",
       "      <td>Brooklyn</td>\n",
       "      <td>Clinton Hill</td>\n",
       "      <td>40.68514</td>\n",
       "      <td>-73.95976</td>\n",
       "      <td>United States</td>\n",
       "      <td>US</td>\n",
       "      <td>True</td>\n",
       "      <td>moderate</td>\n",
       "      <td>Entire home/apt</td>\n",
       "      <td>2005.0</td>\n",
       "      <td>$368</td>\n",
       "      <td>$74</td>\n",
       "      <td>30.0</td>\n",
       "      <td>270.0</td>\n",
       "      <td>7/5/2019</td>\n",
       "      <td>4.64</td>\n",
       "      <td>4.0</td>\n",
       "      <td>1.0</td>\n",
       "      <td>322.0</td>\n",
       "      <td>NaN</td>\n",
       "      <td>NaN</td>\n",
       "    </tr>\n",
       "    <tr>\n",
       "      <th>4</th>\n",
       "      <td>1003689</td>\n",
       "      <td>Entire Apt: Spacious Studio/Loft by central park</td>\n",
       "      <td>92037596077</td>\n",
       "      <td>verified</td>\n",
       "      <td>Lyndon</td>\n",
       "      <td>Manhattan</td>\n",
       "      <td>East Harlem</td>\n",
       "      <td>40.79851</td>\n",
       "      <td>-73.94399</td>\n",
       "      <td>United States</td>\n",
       "      <td>US</td>\n",
       "      <td>False</td>\n",
       "      <td>moderate</td>\n",
       "      <td>Entire home/apt</td>\n",
       "      <td>2009.0</td>\n",
       "      <td>$204</td>\n",
       "      <td>$41</td>\n",
       "      <td>10.0</td>\n",
       "      <td>9.0</td>\n",
       "      <td>11/19/2018</td>\n",
       "      <td>0.10</td>\n",
       "      <td>3.0</td>\n",
       "      <td>1.0</td>\n",
       "      <td>289.0</td>\n",
       "      <td>Please no smoking in the house, porch or on th...</td>\n",
       "      <td>NaN</td>\n",
       "    </tr>\n",
       "  </tbody>\n",
       "</table>\n",
       "</div>"
      ],
      "text/plain": [
       "        id                                              NAME      host id  \\\n",
       "0  1001254                Clean & quiet apt home by the park  80014485718   \n",
       "1  1002102                             Skylit Midtown Castle  52335172823   \n",
       "2  1002403               THE VILLAGE OF HARLEM....NEW YORK !  78829239556   \n",
       "3  1002755                                               NaN  85098326012   \n",
       "4  1003689  Entire Apt: Spacious Studio/Loft by central park  92037596077   \n",
       "\n",
       "  host_identity_verified host name neighbourhood group neighbourhood  \\\n",
       "0            unconfirmed  Madaline            Brooklyn    Kensington   \n",
       "1               verified     Jenna           Manhattan       Midtown   \n",
       "2                    NaN     Elise           Manhattan        Harlem   \n",
       "3            unconfirmed     Garry            Brooklyn  Clinton Hill   \n",
       "4               verified    Lyndon           Manhattan   East Harlem   \n",
       "\n",
       "        lat      long        country country code instant_bookable  \\\n",
       "0  40.64749 -73.97237  United States           US            False   \n",
       "1  40.75362 -73.98377  United States           US            False   \n",
       "2  40.80902 -73.94190  United States           US             True   \n",
       "3  40.68514 -73.95976  United States           US             True   \n",
       "4  40.79851 -73.94399  United States           US            False   \n",
       "\n",
       "  cancellation_policy        room type  Construction year  price service fee  \\\n",
       "0              strict     Private room             2020.0  $966        $193    \n",
       "1            moderate  Entire home/apt             2007.0  $142         $28    \n",
       "2            flexible     Private room             2005.0  $620        $124    \n",
       "3            moderate  Entire home/apt             2005.0  $368         $74    \n",
       "4            moderate  Entire home/apt             2009.0  $204         $41    \n",
       "\n",
       "   minimum nights  number of reviews last review  reviews per month  \\\n",
       "0            10.0                9.0  10/19/2021               0.21   \n",
       "1            30.0               45.0   5/21/2022               0.38   \n",
       "2             3.0                0.0         NaN                NaN   \n",
       "3            30.0              270.0    7/5/2019               4.64   \n",
       "4            10.0                9.0  11/19/2018               0.10   \n",
       "\n",
       "   review rate number  calculated host listings count  availability 365  \\\n",
       "0                 4.0                             6.0             286.0   \n",
       "1                 4.0                             2.0             228.0   \n",
       "2                 5.0                             1.0             352.0   \n",
       "3                 4.0                             1.0             322.0   \n",
       "4                 3.0                             1.0             289.0   \n",
       "\n",
       "                                         house_rules license  \n",
       "0  Clean up and treat the home the way you'd like...     NaN  \n",
       "1  Pet friendly but please confirm with me if the...     NaN  \n",
       "2  I encourage you to use my kitchen, cooking and...     NaN  \n",
       "3                                                NaN     NaN  \n",
       "4  Please no smoking in the house, porch or on th...     NaN  "
      ]
     },
     "execution_count": 604,
     "metadata": {},
     "output_type": "execute_result"
    }
   ],
   "source": [
    "df.head()"
   ]
  },
  {
   "cell_type": "markdown",
   "id": "2a3ad93f-fb62-4937-81f8-b78ce130af39",
   "metadata": {},
   "source": [
    "##### Checking the Number of Rows & determining the number of rows in the DataFrame:"
   ]
  },
  {
   "cell_type": "code",
   "execution_count": 605,
   "id": "4bee39fe-e2a2-425e-b380-2d6441c38419",
   "metadata": {
    "tags": []
   },
   "outputs": [
    {
     "data": {
      "text/plain": [
       "(102599, 26)"
      ]
     },
     "execution_count": 605,
     "metadata": {},
     "output_type": "execute_result"
    }
   ],
   "source": [
    "df.shape"
   ]
  },
  {
   "cell_type": "markdown",
   "id": "c5547dbc-8e4e-477a-91a8-6647cfb04bf7",
   "metadata": {
    "tags": []
   },
   "source": [
    "###### ** There are 102599 rows in the data."
   ]
  },
  {
   "cell_type": "markdown",
   "id": "1c3b8731-c2be-4463-8f3c-1116b9e999c2",
   "metadata": {},
   "source": [
    "##### Inspecting the Data Types of Columns, diisplaying information about the DataFrame, & including data types of columns:"
   ]
  },
  {
   "cell_type": "code",
   "execution_count": 606,
   "id": "f67015f3-5820-4ca2-a10a-e80f24ab844d",
   "metadata": {
    "tags": []
   },
   "outputs": [
    {
     "name": "stdout",
     "output_type": "stream",
     "text": [
      "<class 'pandas.core.frame.DataFrame'>\n",
      "RangeIndex: 102599 entries, 0 to 102598\n",
      "Data columns (total 26 columns):\n",
      " #   Column                          Non-Null Count   Dtype  \n",
      "---  ------                          --------------   -----  \n",
      " 0   id                              102599 non-null  int64  \n",
      " 1   NAME                            102349 non-null  object \n",
      " 2   host id                         102599 non-null  int64  \n",
      " 3   host_identity_verified          102310 non-null  object \n",
      " 4   host name                       102193 non-null  object \n",
      " 5   neighbourhood group             102570 non-null  object \n",
      " 6   neighbourhood                   102583 non-null  object \n",
      " 7   lat                             102591 non-null  float64\n",
      " 8   long                            102591 non-null  float64\n",
      " 9   country                         102067 non-null  object \n",
      " 10  country code                    102468 non-null  object \n",
      " 11  instant_bookable                102494 non-null  object \n",
      " 12  cancellation_policy             102523 non-null  object \n",
      " 13  room type                       102599 non-null  object \n",
      " 14  Construction year               102385 non-null  float64\n",
      " 15  price                           102352 non-null  object \n",
      " 16  service fee                     102326 non-null  object \n",
      " 17  minimum nights                  102190 non-null  float64\n",
      " 18  number of reviews               102416 non-null  float64\n",
      " 19  last review                     86706 non-null   object \n",
      " 20  reviews per month               86720 non-null   float64\n",
      " 21  review rate number              102273 non-null  float64\n",
      " 22  calculated host listings count  102280 non-null  float64\n",
      " 23  availability 365                102151 non-null  float64\n",
      " 24  house_rules                     50468 non-null   object \n",
      " 25  license                         2 non-null       object \n",
      "dtypes: float64(9), int64(2), object(15)\n",
      "memory usage: 20.4+ MB\n"
     ]
    }
   ],
   "source": [
    "df.info()"
   ]
  },
  {
   "cell_type": "code",
   "execution_count": 607,
   "id": "e6e4b4bd-e980-4163-a78c-11913d6a30c7",
   "metadata": {
    "tags": []
   },
   "outputs": [
    {
     "data": {
      "text/plain": [
       "id                                     0\n",
       "NAME                                 250\n",
       "host id                                0\n",
       "host_identity_verified               289\n",
       "host name                            406\n",
       "neighbourhood group                   29\n",
       "neighbourhood                         16\n",
       "lat                                    8\n",
       "long                                   8\n",
       "country                              532\n",
       "country code                         131\n",
       "instant_bookable                     105\n",
       "cancellation_policy                   76\n",
       "room type                              0\n",
       "Construction year                    214\n",
       "price                                247\n",
       "service fee                          273\n",
       "minimum nights                       409\n",
       "number of reviews                    183\n",
       "last review                        15893\n",
       "reviews per month                  15879\n",
       "review rate number                   326\n",
       "calculated host listings count       319\n",
       "availability 365                     448\n",
       "house_rules                        52131\n",
       "license                           102597\n",
       "dtype: int64"
      ]
     },
     "execution_count": 607,
     "metadata": {},
     "output_type": "execute_result"
    }
   ],
   "source": [
    "df.isnull().sum()"
   ]
  },
  {
   "cell_type": "code",
   "execution_count": 608,
   "id": "0db4cd35-bc8b-4f47-a465-0c949ce6c08a",
   "metadata": {
    "tags": []
   },
   "outputs": [
    {
     "data": {
      "text/html": [
       "<div>\n",
       "<style scoped>\n",
       "    .dataframe tbody tr th:only-of-type {\n",
       "        vertical-align: middle;\n",
       "    }\n",
       "\n",
       "    .dataframe tbody tr th {\n",
       "        vertical-align: top;\n",
       "    }\n",
       "\n",
       "    .dataframe thead th {\n",
       "        text-align: right;\n",
       "    }\n",
       "</style>\n",
       "<table border=\"1\" class=\"dataframe\">\n",
       "  <thead>\n",
       "    <tr style=\"text-align: right;\">\n",
       "      <th></th>\n",
       "      <th>id</th>\n",
       "      <th>host id</th>\n",
       "      <th>lat</th>\n",
       "      <th>long</th>\n",
       "      <th>Construction year</th>\n",
       "      <th>minimum nights</th>\n",
       "      <th>number of reviews</th>\n",
       "      <th>reviews per month</th>\n",
       "      <th>review rate number</th>\n",
       "      <th>calculated host listings count</th>\n",
       "      <th>availability 365</th>\n",
       "    </tr>\n",
       "  </thead>\n",
       "  <tbody>\n",
       "    <tr>\n",
       "      <th>count</th>\n",
       "      <td>1.025990e+05</td>\n",
       "      <td>1.025990e+05</td>\n",
       "      <td>102591.000000</td>\n",
       "      <td>102591.000000</td>\n",
       "      <td>102385.000000</td>\n",
       "      <td>102190.000000</td>\n",
       "      <td>102416.000000</td>\n",
       "      <td>86720.000000</td>\n",
       "      <td>102273.000000</td>\n",
       "      <td>102280.000000</td>\n",
       "      <td>102151.000000</td>\n",
       "    </tr>\n",
       "    <tr>\n",
       "      <th>mean</th>\n",
       "      <td>2.914623e+07</td>\n",
       "      <td>4.925411e+10</td>\n",
       "      <td>40.728094</td>\n",
       "      <td>-73.949644</td>\n",
       "      <td>2012.487464</td>\n",
       "      <td>8.135845</td>\n",
       "      <td>27.483743</td>\n",
       "      <td>1.374022</td>\n",
       "      <td>3.279106</td>\n",
       "      <td>7.936605</td>\n",
       "      <td>141.133254</td>\n",
       "    </tr>\n",
       "    <tr>\n",
       "      <th>std</th>\n",
       "      <td>1.625751e+07</td>\n",
       "      <td>2.853900e+10</td>\n",
       "      <td>0.055857</td>\n",
       "      <td>0.049521</td>\n",
       "      <td>5.765556</td>\n",
       "      <td>30.553781</td>\n",
       "      <td>49.508954</td>\n",
       "      <td>1.746621</td>\n",
       "      <td>1.284657</td>\n",
       "      <td>32.218780</td>\n",
       "      <td>135.435024</td>\n",
       "    </tr>\n",
       "    <tr>\n",
       "      <th>min</th>\n",
       "      <td>1.001254e+06</td>\n",
       "      <td>1.236005e+08</td>\n",
       "      <td>40.499790</td>\n",
       "      <td>-74.249840</td>\n",
       "      <td>2003.000000</td>\n",
       "      <td>-1223.000000</td>\n",
       "      <td>0.000000</td>\n",
       "      <td>0.010000</td>\n",
       "      <td>1.000000</td>\n",
       "      <td>1.000000</td>\n",
       "      <td>-10.000000</td>\n",
       "    </tr>\n",
       "    <tr>\n",
       "      <th>25%</th>\n",
       "      <td>1.508581e+07</td>\n",
       "      <td>2.458333e+10</td>\n",
       "      <td>40.688740</td>\n",
       "      <td>-73.982580</td>\n",
       "      <td>2007.000000</td>\n",
       "      <td>2.000000</td>\n",
       "      <td>1.000000</td>\n",
       "      <td>0.220000</td>\n",
       "      <td>2.000000</td>\n",
       "      <td>1.000000</td>\n",
       "      <td>3.000000</td>\n",
       "    </tr>\n",
       "    <tr>\n",
       "      <th>50%</th>\n",
       "      <td>2.913660e+07</td>\n",
       "      <td>4.911774e+10</td>\n",
       "      <td>40.722290</td>\n",
       "      <td>-73.954440</td>\n",
       "      <td>2012.000000</td>\n",
       "      <td>3.000000</td>\n",
       "      <td>7.000000</td>\n",
       "      <td>0.740000</td>\n",
       "      <td>3.000000</td>\n",
       "      <td>1.000000</td>\n",
       "      <td>96.000000</td>\n",
       "    </tr>\n",
       "    <tr>\n",
       "      <th>75%</th>\n",
       "      <td>4.320120e+07</td>\n",
       "      <td>7.399650e+10</td>\n",
       "      <td>40.762760</td>\n",
       "      <td>-73.932350</td>\n",
       "      <td>2017.000000</td>\n",
       "      <td>5.000000</td>\n",
       "      <td>30.000000</td>\n",
       "      <td>2.000000</td>\n",
       "      <td>4.000000</td>\n",
       "      <td>2.000000</td>\n",
       "      <td>269.000000</td>\n",
       "    </tr>\n",
       "    <tr>\n",
       "      <th>max</th>\n",
       "      <td>5.736742e+07</td>\n",
       "      <td>9.876313e+10</td>\n",
       "      <td>40.916970</td>\n",
       "      <td>-73.705220</td>\n",
       "      <td>2022.000000</td>\n",
       "      <td>5645.000000</td>\n",
       "      <td>1024.000000</td>\n",
       "      <td>90.000000</td>\n",
       "      <td>5.000000</td>\n",
       "      <td>332.000000</td>\n",
       "      <td>3677.000000</td>\n",
       "    </tr>\n",
       "  </tbody>\n",
       "</table>\n",
       "</div>"
      ],
      "text/plain": [
       "                 id       host id            lat           long  \\\n",
       "count  1.025990e+05  1.025990e+05  102591.000000  102591.000000   \n",
       "mean   2.914623e+07  4.925411e+10      40.728094     -73.949644   \n",
       "std    1.625751e+07  2.853900e+10       0.055857       0.049521   \n",
       "min    1.001254e+06  1.236005e+08      40.499790     -74.249840   \n",
       "25%    1.508581e+07  2.458333e+10      40.688740     -73.982580   \n",
       "50%    2.913660e+07  4.911774e+10      40.722290     -73.954440   \n",
       "75%    4.320120e+07  7.399650e+10      40.762760     -73.932350   \n",
       "max    5.736742e+07  9.876313e+10      40.916970     -73.705220   \n",
       "\n",
       "       Construction year  minimum nights  number of reviews  \\\n",
       "count      102385.000000   102190.000000      102416.000000   \n",
       "mean         2012.487464        8.135845          27.483743   \n",
       "std             5.765556       30.553781          49.508954   \n",
       "min          2003.000000    -1223.000000           0.000000   \n",
       "25%          2007.000000        2.000000           1.000000   \n",
       "50%          2012.000000        3.000000           7.000000   \n",
       "75%          2017.000000        5.000000          30.000000   \n",
       "max          2022.000000     5645.000000        1024.000000   \n",
       "\n",
       "       reviews per month  review rate number  calculated host listings count  \\\n",
       "count       86720.000000       102273.000000                   102280.000000   \n",
       "mean            1.374022            3.279106                        7.936605   \n",
       "std             1.746621            1.284657                       32.218780   \n",
       "min             0.010000            1.000000                        1.000000   \n",
       "25%             0.220000            2.000000                        1.000000   \n",
       "50%             0.740000            3.000000                        1.000000   \n",
       "75%             2.000000            4.000000                        2.000000   \n",
       "max            90.000000            5.000000                      332.000000   \n",
       "\n",
       "       availability 365  \n",
       "count     102151.000000  \n",
       "mean         141.133254  \n",
       "std          135.435024  \n",
       "min          -10.000000  \n",
       "25%            3.000000  \n",
       "50%           96.000000  \n",
       "75%          269.000000  \n",
       "max         3677.000000  "
      ]
     },
     "execution_count": 608,
     "metadata": {},
     "output_type": "execute_result"
    }
   ],
   "source": [
    "df.describe()"
   ]
  },
  {
   "cell_type": "code",
   "execution_count": 609,
   "id": "6e1ceddc-b04c-41ba-b8f0-fc4c7b977577",
   "metadata": {
    "tags": []
   },
   "outputs": [
    {
     "data": {
      "text/html": [
       "<div>\n",
       "<style scoped>\n",
       "    .dataframe tbody tr th:only-of-type {\n",
       "        vertical-align: middle;\n",
       "    }\n",
       "\n",
       "    .dataframe tbody tr th {\n",
       "        vertical-align: top;\n",
       "    }\n",
       "\n",
       "    .dataframe thead th {\n",
       "        text-align: right;\n",
       "    }\n",
       "</style>\n",
       "<table border=\"1\" class=\"dataframe\">\n",
       "  <thead>\n",
       "    <tr style=\"text-align: right;\">\n",
       "      <th></th>\n",
       "      <th>NAME</th>\n",
       "      <th>host_identity_verified</th>\n",
       "      <th>host name</th>\n",
       "      <th>neighbourhood group</th>\n",
       "      <th>neighbourhood</th>\n",
       "      <th>country</th>\n",
       "      <th>country code</th>\n",
       "      <th>instant_bookable</th>\n",
       "      <th>cancellation_policy</th>\n",
       "      <th>room type</th>\n",
       "      <th>price</th>\n",
       "      <th>service fee</th>\n",
       "      <th>last review</th>\n",
       "      <th>house_rules</th>\n",
       "      <th>license</th>\n",
       "    </tr>\n",
       "  </thead>\n",
       "  <tbody>\n",
       "    <tr>\n",
       "      <th>count</th>\n",
       "      <td>102349</td>\n",
       "      <td>102310</td>\n",
       "      <td>102193</td>\n",
       "      <td>102570</td>\n",
       "      <td>102583</td>\n",
       "      <td>102067</td>\n",
       "      <td>102468</td>\n",
       "      <td>102494</td>\n",
       "      <td>102523</td>\n",
       "      <td>102599</td>\n",
       "      <td>102352</td>\n",
       "      <td>102326</td>\n",
       "      <td>86706</td>\n",
       "      <td>50468</td>\n",
       "      <td>2</td>\n",
       "    </tr>\n",
       "    <tr>\n",
       "      <th>unique</th>\n",
       "      <td>61281</td>\n",
       "      <td>2</td>\n",
       "      <td>13190</td>\n",
       "      <td>7</td>\n",
       "      <td>224</td>\n",
       "      <td>1</td>\n",
       "      <td>1</td>\n",
       "      <td>2</td>\n",
       "      <td>3</td>\n",
       "      <td>4</td>\n",
       "      <td>1151</td>\n",
       "      <td>231</td>\n",
       "      <td>2477</td>\n",
       "      <td>1976</td>\n",
       "      <td>1</td>\n",
       "    </tr>\n",
       "    <tr>\n",
       "      <th>top</th>\n",
       "      <td>Home away from home</td>\n",
       "      <td>unconfirmed</td>\n",
       "      <td>Michael</td>\n",
       "      <td>Manhattan</td>\n",
       "      <td>Bedford-Stuyvesant</td>\n",
       "      <td>United States</td>\n",
       "      <td>US</td>\n",
       "      <td>False</td>\n",
       "      <td>moderate</td>\n",
       "      <td>Entire home/apt</td>\n",
       "      <td>$206</td>\n",
       "      <td>$41</td>\n",
       "      <td>6/23/2019</td>\n",
       "      <td>#NAME?</td>\n",
       "      <td>41662/AL</td>\n",
       "    </tr>\n",
       "    <tr>\n",
       "      <th>freq</th>\n",
       "      <td>33</td>\n",
       "      <td>51200</td>\n",
       "      <td>881</td>\n",
       "      <td>43792</td>\n",
       "      <td>7937</td>\n",
       "      <td>102067</td>\n",
       "      <td>102468</td>\n",
       "      <td>51474</td>\n",
       "      <td>34343</td>\n",
       "      <td>53701</td>\n",
       "      <td>137</td>\n",
       "      <td>526</td>\n",
       "      <td>2443</td>\n",
       "      <td>2712</td>\n",
       "      <td>2</td>\n",
       "    </tr>\n",
       "  </tbody>\n",
       "</table>\n",
       "</div>"
      ],
      "text/plain": [
       "                       NAME host_identity_verified host name  \\\n",
       "count                102349                 102310    102193   \n",
       "unique                61281                      2     13190   \n",
       "top     Home away from home            unconfirmed   Michael   \n",
       "freq                     33                  51200       881   \n",
       "\n",
       "       neighbourhood group       neighbourhood        country country code  \\\n",
       "count               102570              102583         102067       102468   \n",
       "unique                   7                 224              1            1   \n",
       "top              Manhattan  Bedford-Stuyvesant  United States           US   \n",
       "freq                 43792                7937         102067       102468   \n",
       "\n",
       "       instant_bookable cancellation_policy        room type   price  \\\n",
       "count            102494              102523           102599  102352   \n",
       "unique                2                   3                4    1151   \n",
       "top               False            moderate  Entire home/apt   $206    \n",
       "freq              51474               34343            53701     137   \n",
       "\n",
       "       service fee last review house_rules   license  \n",
       "count       102326       86706       50468         2  \n",
       "unique         231        2477        1976         1  \n",
       "top           $41    6/23/2019      #NAME?  41662/AL  \n",
       "freq           526        2443        2712         2  "
      ]
     },
     "execution_count": 609,
     "metadata": {},
     "output_type": "execute_result"
    }
   ],
   "source": [
    "df.describe(include = 'O')"
   ]
  },
  {
   "cell_type": "markdown",
   "id": "2a10db1d-6c68-4ae2-ba8d-15f3a37f9e1e",
   "metadata": {},
   "source": [
    "##### Reviewing the output of these steps to understand the structure and data types of the dataset:"
   ]
  },
  {
   "cell_type": "markdown",
   "id": "f339490c-8883-4f69-8f71-c1a8ff9b2c42",
   "metadata": {
    "tags": []
   },
   "source": [
    "###### ** The output in all of the above code allows me to detemine that:\n",
    "###### 1. Some columns have object data types when they are numbers, which is a catch-all that includes a combination of numbers, strings, etc. but by using just a float or int we can calculate better. This is something we may need to take a look at and clean in order to report on / form analysis on the data properly.\n",
    "###### 2. The currency in the price column is reported in a way that is not standardized, some have dollar signs, some have no indication. This should be cleaned up to report only integers, this way we can create visualizations to represent the data correctly.\n",
    "###### 3. Some of the columns are not as descriptive as we'd like them to be to quickly be able to tell what the data is representing. This should be cleaned up to make it easily readable. \n",
    "###### 4. There are some negative numbers in columns like minimum night, avaialable, etc. This is something we may need to clean up to ensure the visualizations are formatted correctly, and not represeting false / errored reported data. "
   ]
  },
  {
   "cell_type": "markdown",
   "id": "5936ff21-040c-49b1-815d-40a0eb1fbc17",
   "metadata": {
    "tags": []
   },
   "source": [
    "### Data Cleaning"
   ]
  },
  {
   "cell_type": "markdown",
   "id": "60a7256b-6583-49a3-a35a-9dcb5f3fe068",
   "metadata": {
    "tags": []
   },
   "source": [
    "##### Reviewing the column names and renaming any that need to be renamed for clarity or consistency:"
   ]
  },
  {
   "cell_type": "code",
   "execution_count": 610,
   "id": "3364d5ea-947b-4cf2-ac0f-9f01459e8355",
   "metadata": {
    "tags": []
   },
   "outputs": [],
   "source": [
    "df.rename(columns = {'availability 365' : 'days_avaialable_next_365days',\n",
    "                           'license' : 'license #',\n",
    "                           'instant_bookable' : 'can_book_w/out_host_approval',\n",
    "                           'accommodates' : 'max_capacity'},\n",
    "          \n",
    "               inplace = True)"
   ]
  },
  {
   "cell_type": "markdown",
   "id": "05be23bb-6f9c-40e7-9bc4-106fe90cf686",
   "metadata": {
    "tags": []
   },
   "source": [
    "##### Checking to make sure it worked:"
   ]
  },
  {
   "cell_type": "code",
   "execution_count": 611,
   "id": "2793eae2-66d8-4826-81c8-92bb37c6814b",
   "metadata": {
    "tags": []
   },
   "outputs": [
    {
     "data": {
      "text/plain": [
       "Index(['id', 'NAME', 'host id', 'host_identity_verified', 'host name',\n",
       "       'neighbourhood group', 'neighbourhood', 'lat', 'long', 'country',\n",
       "       'country code', 'can_book_w/out_host_approval', 'cancellation_policy',\n",
       "       'room type', 'Construction year', 'price', 'service fee',\n",
       "       'minimum nights', 'number of reviews', 'last review',\n",
       "       'reviews per month', 'review rate number',\n",
       "       'calculated host listings count', 'days_avaialable_next_365days',\n",
       "       'house_rules', 'license #'],\n",
       "      dtype='object')"
      ]
     },
     "execution_count": 611,
     "metadata": {},
     "output_type": "execute_result"
    }
   ],
   "source": [
    "df.columns"
   ]
  },
  {
   "cell_type": "markdown",
   "id": "06a5823f-b535-4741-ac74-4920b1523ca2",
   "metadata": {},
   "source": [
    "##### Making negative numbers Null for accuracy of the visualizations needed below:"
   ]
  },
  {
   "cell_type": "code",
   "execution_count": 612,
   "id": "8dd93db4-6b39-4a70-a633-7c3e20838220",
   "metadata": {
    "tags": []
   },
   "outputs": [],
   "source": [
    "df.loc[df['minimum nights'] < 0, 'minimum nights'] = np.nan"
   ]
  },
  {
   "cell_type": "markdown",
   "id": "67210689-be67-4301-b49b-a9783b692bb2",
   "metadata": {},
   "source": [
    "##### Checking to make sure it worked:"
   ]
  },
  {
   "cell_type": "code",
   "execution_count": 613,
   "id": "b0bd5942-e0fc-4838-8227-88bfaf393b9c",
   "metadata": {
    "tags": []
   },
   "outputs": [
    {
     "data": {
      "text/html": [
       "<div>\n",
       "<style scoped>\n",
       "    .dataframe tbody tr th:only-of-type {\n",
       "        vertical-align: middle;\n",
       "    }\n",
       "\n",
       "    .dataframe tbody tr th {\n",
       "        vertical-align: top;\n",
       "    }\n",
       "\n",
       "    .dataframe thead th {\n",
       "        text-align: right;\n",
       "    }\n",
       "</style>\n",
       "<table border=\"1\" class=\"dataframe\">\n",
       "  <thead>\n",
       "    <tr style=\"text-align: right;\">\n",
       "      <th></th>\n",
       "      <th>id</th>\n",
       "      <th>host id</th>\n",
       "      <th>lat</th>\n",
       "      <th>long</th>\n",
       "      <th>Construction year</th>\n",
       "      <th>minimum nights</th>\n",
       "      <th>number of reviews</th>\n",
       "      <th>reviews per month</th>\n",
       "      <th>review rate number</th>\n",
       "      <th>calculated host listings count</th>\n",
       "      <th>days_avaialable_next_365days</th>\n",
       "    </tr>\n",
       "  </thead>\n",
       "  <tbody>\n",
       "    <tr>\n",
       "      <th>count</th>\n",
       "      <td>1.025990e+05</td>\n",
       "      <td>1.025990e+05</td>\n",
       "      <td>102591.000000</td>\n",
       "      <td>102591.000000</td>\n",
       "      <td>102385.000000</td>\n",
       "      <td>102177.000000</td>\n",
       "      <td>102416.000000</td>\n",
       "      <td>86720.000000</td>\n",
       "      <td>102273.000000</td>\n",
       "      <td>102280.000000</td>\n",
       "      <td>102151.000000</td>\n",
       "    </tr>\n",
       "    <tr>\n",
       "      <th>mean</th>\n",
       "      <td>2.914623e+07</td>\n",
       "      <td>4.925411e+10</td>\n",
       "      <td>40.728094</td>\n",
       "      <td>-73.949644</td>\n",
       "      <td>2012.487464</td>\n",
       "      <td>8.156219</td>\n",
       "      <td>27.483743</td>\n",
       "      <td>1.374022</td>\n",
       "      <td>3.279106</td>\n",
       "      <td>7.936605</td>\n",
       "      <td>141.133254</td>\n",
       "    </tr>\n",
       "    <tr>\n",
       "      <th>std</th>\n",
       "      <td>1.625751e+07</td>\n",
       "      <td>2.853900e+10</td>\n",
       "      <td>0.055857</td>\n",
       "      <td>0.049521</td>\n",
       "      <td>5.765556</td>\n",
       "      <td>30.279301</td>\n",
       "      <td>49.508954</td>\n",
       "      <td>1.746621</td>\n",
       "      <td>1.284657</td>\n",
       "      <td>32.218780</td>\n",
       "      <td>135.435024</td>\n",
       "    </tr>\n",
       "    <tr>\n",
       "      <th>min</th>\n",
       "      <td>1.001254e+06</td>\n",
       "      <td>1.236005e+08</td>\n",
       "      <td>40.499790</td>\n",
       "      <td>-74.249840</td>\n",
       "      <td>2003.000000</td>\n",
       "      <td>1.000000</td>\n",
       "      <td>0.000000</td>\n",
       "      <td>0.010000</td>\n",
       "      <td>1.000000</td>\n",
       "      <td>1.000000</td>\n",
       "      <td>-10.000000</td>\n",
       "    </tr>\n",
       "    <tr>\n",
       "      <th>25%</th>\n",
       "      <td>1.508581e+07</td>\n",
       "      <td>2.458333e+10</td>\n",
       "      <td>40.688740</td>\n",
       "      <td>-73.982580</td>\n",
       "      <td>2007.000000</td>\n",
       "      <td>2.000000</td>\n",
       "      <td>1.000000</td>\n",
       "      <td>0.220000</td>\n",
       "      <td>2.000000</td>\n",
       "      <td>1.000000</td>\n",
       "      <td>3.000000</td>\n",
       "    </tr>\n",
       "    <tr>\n",
       "      <th>50%</th>\n",
       "      <td>2.913660e+07</td>\n",
       "      <td>4.911774e+10</td>\n",
       "      <td>40.722290</td>\n",
       "      <td>-73.954440</td>\n",
       "      <td>2012.000000</td>\n",
       "      <td>3.000000</td>\n",
       "      <td>7.000000</td>\n",
       "      <td>0.740000</td>\n",
       "      <td>3.000000</td>\n",
       "      <td>1.000000</td>\n",
       "      <td>96.000000</td>\n",
       "    </tr>\n",
       "    <tr>\n",
       "      <th>75%</th>\n",
       "      <td>4.320120e+07</td>\n",
       "      <td>7.399650e+10</td>\n",
       "      <td>40.762760</td>\n",
       "      <td>-73.932350</td>\n",
       "      <td>2017.000000</td>\n",
       "      <td>5.000000</td>\n",
       "      <td>30.000000</td>\n",
       "      <td>2.000000</td>\n",
       "      <td>4.000000</td>\n",
       "      <td>2.000000</td>\n",
       "      <td>269.000000</td>\n",
       "    </tr>\n",
       "    <tr>\n",
       "      <th>max</th>\n",
       "      <td>5.736742e+07</td>\n",
       "      <td>9.876313e+10</td>\n",
       "      <td>40.916970</td>\n",
       "      <td>-73.705220</td>\n",
       "      <td>2022.000000</td>\n",
       "      <td>5645.000000</td>\n",
       "      <td>1024.000000</td>\n",
       "      <td>90.000000</td>\n",
       "      <td>5.000000</td>\n",
       "      <td>332.000000</td>\n",
       "      <td>3677.000000</td>\n",
       "    </tr>\n",
       "  </tbody>\n",
       "</table>\n",
       "</div>"
      ],
      "text/plain": [
       "                 id       host id            lat           long  \\\n",
       "count  1.025990e+05  1.025990e+05  102591.000000  102591.000000   \n",
       "mean   2.914623e+07  4.925411e+10      40.728094     -73.949644   \n",
       "std    1.625751e+07  2.853900e+10       0.055857       0.049521   \n",
       "min    1.001254e+06  1.236005e+08      40.499790     -74.249840   \n",
       "25%    1.508581e+07  2.458333e+10      40.688740     -73.982580   \n",
       "50%    2.913660e+07  4.911774e+10      40.722290     -73.954440   \n",
       "75%    4.320120e+07  7.399650e+10      40.762760     -73.932350   \n",
       "max    5.736742e+07  9.876313e+10      40.916970     -73.705220   \n",
       "\n",
       "       Construction year  minimum nights  number of reviews  \\\n",
       "count      102385.000000   102177.000000      102416.000000   \n",
       "mean         2012.487464        8.156219          27.483743   \n",
       "std             5.765556       30.279301          49.508954   \n",
       "min          2003.000000        1.000000           0.000000   \n",
       "25%          2007.000000        2.000000           1.000000   \n",
       "50%          2012.000000        3.000000           7.000000   \n",
       "75%          2017.000000        5.000000          30.000000   \n",
       "max          2022.000000     5645.000000        1024.000000   \n",
       "\n",
       "       reviews per month  review rate number  calculated host listings count  \\\n",
       "count       86720.000000       102273.000000                   102280.000000   \n",
       "mean            1.374022            3.279106                        7.936605   \n",
       "std             1.746621            1.284657                       32.218780   \n",
       "min             0.010000            1.000000                        1.000000   \n",
       "25%             0.220000            2.000000                        1.000000   \n",
       "50%             0.740000            3.000000                        1.000000   \n",
       "75%             2.000000            4.000000                        2.000000   \n",
       "max            90.000000            5.000000                      332.000000   \n",
       "\n",
       "       days_avaialable_next_365days  \n",
       "count                 102151.000000  \n",
       "mean                     141.133254  \n",
       "std                      135.435024  \n",
       "min                      -10.000000  \n",
       "25%                        3.000000  \n",
       "50%                       96.000000  \n",
       "75%                      269.000000  \n",
       "max                     3677.000000  "
      ]
     },
     "execution_count": 613,
     "metadata": {},
     "output_type": "execute_result"
    }
   ],
   "source": [
    "df.describe()"
   ]
  },
  {
   "cell_type": "markdown",
   "id": "0a1e50a8-79eb-4878-a097-64b7de9039f2",
   "metadata": {
    "tags": []
   },
   "source": [
    "##### Checking the data types of columns to see any datatypes I would like to change, & changing for better analysis:"
   ]
  },
  {
   "cell_type": "markdown",
   "id": "471727d5-2351-4a2b-a721-c0e90d16b8a3",
   "metadata": {
    "tags": []
   },
   "source": [
    "##### Checking first:"
   ]
  },
  {
   "cell_type": "code",
   "execution_count": 614,
   "id": "c3abd138-45e8-4958-a1e9-aa720d1b957a",
   "metadata": {
    "tags": []
   },
   "outputs": [
    {
     "data": {
      "text/plain": [
       "id                                  int64\n",
       "NAME                               object\n",
       "host id                             int64\n",
       "host_identity_verified             object\n",
       "host name                          object\n",
       "neighbourhood group                object\n",
       "neighbourhood                      object\n",
       "lat                               float64\n",
       "long                              float64\n",
       "country                            object\n",
       "country code                       object\n",
       "can_book_w/out_host_approval       object\n",
       "cancellation_policy                object\n",
       "room type                          object\n",
       "Construction year                 float64\n",
       "price                              object\n",
       "service fee                        object\n",
       "minimum nights                    float64\n",
       "number of reviews                 float64\n",
       "last review                        object\n",
       "reviews per month                 float64\n",
       "review rate number                float64\n",
       "calculated host listings count    float64\n",
       "days_avaialable_next_365days      float64\n",
       "house_rules                        object\n",
       "license #                          object\n",
       "dtype: object"
      ]
     },
     "execution_count": 614,
     "metadata": {},
     "output_type": "execute_result"
    }
   ],
   "source": [
    "df.dtypes"
   ]
  },
  {
   "cell_type": "markdown",
   "id": "51086cf7-9c9c-49cd-b591-ab3a42400c7a",
   "metadata": {
    "tags": []
   },
   "source": [
    "###### ** Last Review needs to change to a datetime, price & service fee need to change to a float, & can_book_wout_host_approval needs to be an integer, in order to properly analyze and visualize the data."
   ]
  },
  {
   "cell_type": "markdown",
   "id": "838e2cf8-2d27-4bcf-8e71-2fce27705193",
   "metadata": {},
   "source": [
    "##### Now coding to change the ones I need to:"
   ]
  },
  {
   "cell_type": "code",
   "execution_count": 615,
   "id": "705421b9-ec8a-434f-96a5-25880159a0de",
   "metadata": {
    "tags": []
   },
   "outputs": [],
   "source": [
    "df['last review '] = pd.to_datetime(df['last review'])"
   ]
  },
  {
   "cell_type": "code",
   "execution_count": 616,
   "id": "96929e26-0cf2-43ef-802e-ee8edcea10b9",
   "metadata": {
    "tags": []
   },
   "outputs": [],
   "source": [
    "def clean_currency(curr):\n",
    "    if pd.isnull(curr):\n",
    "        return np.NaN\n",
    "    else:\n",
    "        return float(curr.replace(\",\", \"\").replace(\"$\", \"\"))\n",
    "# # Example usage: df['your_currency_column'] = df['your_currency_column'].apply(clean_currency)"
   ]
  },
  {
   "cell_type": "code",
   "execution_count": 617,
   "id": "dcd1e33b-79cb-44c8-b042-91444981e749",
   "metadata": {
    "tags": []
   },
   "outputs": [],
   "source": [
    "df['price'] = df['price'].apply(clean_currency)"
   ]
  },
  {
   "cell_type": "code",
   "execution_count": 618,
   "id": "47cd7013-f8be-4ad6-80a7-8f3d4dd74af1",
   "metadata": {
    "tags": []
   },
   "outputs": [],
   "source": [
    "df['service fee'] = df['service fee'].apply(clean_currency)"
   ]
  },
  {
   "cell_type": "code",
   "execution_count": 619,
   "id": "b776dba6-b6f7-4d4c-8f16-9e73958e5f2d",
   "metadata": {
    "tags": []
   },
   "outputs": [],
   "source": [
    "##### Checking to make sure it worked:"
   ]
  },
  {
   "cell_type": "code",
   "execution_count": 620,
   "id": "6485d03b-51cf-4ce3-9d80-560e1f1e8921",
   "metadata": {
    "tags": []
   },
   "outputs": [
    {
     "data": {
      "text/html": [
       "<div>\n",
       "<style scoped>\n",
       "    .dataframe tbody tr th:only-of-type {\n",
       "        vertical-align: middle;\n",
       "    }\n",
       "\n",
       "    .dataframe tbody tr th {\n",
       "        vertical-align: top;\n",
       "    }\n",
       "\n",
       "    .dataframe thead th {\n",
       "        text-align: right;\n",
       "    }\n",
       "</style>\n",
       "<table border=\"1\" class=\"dataframe\">\n",
       "  <thead>\n",
       "    <tr style=\"text-align: right;\">\n",
       "      <th></th>\n",
       "      <th>id</th>\n",
       "      <th>NAME</th>\n",
       "      <th>host id</th>\n",
       "      <th>host_identity_verified</th>\n",
       "      <th>host name</th>\n",
       "      <th>neighbourhood group</th>\n",
       "      <th>neighbourhood</th>\n",
       "      <th>lat</th>\n",
       "      <th>long</th>\n",
       "      <th>country</th>\n",
       "      <th>country code</th>\n",
       "      <th>can_book_w/out_host_approval</th>\n",
       "      <th>cancellation_policy</th>\n",
       "      <th>room type</th>\n",
       "      <th>Construction year</th>\n",
       "      <th>price</th>\n",
       "      <th>service fee</th>\n",
       "      <th>minimum nights</th>\n",
       "      <th>number of reviews</th>\n",
       "      <th>last review</th>\n",
       "      <th>reviews per month</th>\n",
       "      <th>review rate number</th>\n",
       "      <th>calculated host listings count</th>\n",
       "      <th>days_avaialable_next_365days</th>\n",
       "      <th>house_rules</th>\n",
       "      <th>license #</th>\n",
       "      <th>last review</th>\n",
       "    </tr>\n",
       "  </thead>\n",
       "  <tbody>\n",
       "    <tr>\n",
       "      <th>0</th>\n",
       "      <td>1001254</td>\n",
       "      <td>Clean &amp; quiet apt home by the park</td>\n",
       "      <td>80014485718</td>\n",
       "      <td>unconfirmed</td>\n",
       "      <td>Madaline</td>\n",
       "      <td>Brooklyn</td>\n",
       "      <td>Kensington</td>\n",
       "      <td>40.64749</td>\n",
       "      <td>-73.97237</td>\n",
       "      <td>United States</td>\n",
       "      <td>US</td>\n",
       "      <td>False</td>\n",
       "      <td>strict</td>\n",
       "      <td>Private room</td>\n",
       "      <td>2020.0</td>\n",
       "      <td>966.0</td>\n",
       "      <td>193.0</td>\n",
       "      <td>10.0</td>\n",
       "      <td>9.0</td>\n",
       "      <td>10/19/2021</td>\n",
       "      <td>0.21</td>\n",
       "      <td>4.0</td>\n",
       "      <td>6.0</td>\n",
       "      <td>286.0</td>\n",
       "      <td>Clean up and treat the home the way you'd like...</td>\n",
       "      <td>NaN</td>\n",
       "      <td>2021-10-19</td>\n",
       "    </tr>\n",
       "    <tr>\n",
       "      <th>1</th>\n",
       "      <td>1002102</td>\n",
       "      <td>Skylit Midtown Castle</td>\n",
       "      <td>52335172823</td>\n",
       "      <td>verified</td>\n",
       "      <td>Jenna</td>\n",
       "      <td>Manhattan</td>\n",
       "      <td>Midtown</td>\n",
       "      <td>40.75362</td>\n",
       "      <td>-73.98377</td>\n",
       "      <td>United States</td>\n",
       "      <td>US</td>\n",
       "      <td>False</td>\n",
       "      <td>moderate</td>\n",
       "      <td>Entire home/apt</td>\n",
       "      <td>2007.0</td>\n",
       "      <td>142.0</td>\n",
       "      <td>28.0</td>\n",
       "      <td>30.0</td>\n",
       "      <td>45.0</td>\n",
       "      <td>5/21/2022</td>\n",
       "      <td>0.38</td>\n",
       "      <td>4.0</td>\n",
       "      <td>2.0</td>\n",
       "      <td>228.0</td>\n",
       "      <td>Pet friendly but please confirm with me if the...</td>\n",
       "      <td>NaN</td>\n",
       "      <td>2022-05-21</td>\n",
       "    </tr>\n",
       "    <tr>\n",
       "      <th>2</th>\n",
       "      <td>1002403</td>\n",
       "      <td>THE VILLAGE OF HARLEM....NEW YORK !</td>\n",
       "      <td>78829239556</td>\n",
       "      <td>NaN</td>\n",
       "      <td>Elise</td>\n",
       "      <td>Manhattan</td>\n",
       "      <td>Harlem</td>\n",
       "      <td>40.80902</td>\n",
       "      <td>-73.94190</td>\n",
       "      <td>United States</td>\n",
       "      <td>US</td>\n",
       "      <td>True</td>\n",
       "      <td>flexible</td>\n",
       "      <td>Private room</td>\n",
       "      <td>2005.0</td>\n",
       "      <td>620.0</td>\n",
       "      <td>124.0</td>\n",
       "      <td>3.0</td>\n",
       "      <td>0.0</td>\n",
       "      <td>NaN</td>\n",
       "      <td>NaN</td>\n",
       "      <td>5.0</td>\n",
       "      <td>1.0</td>\n",
       "      <td>352.0</td>\n",
       "      <td>I encourage you to use my kitchen, cooking and...</td>\n",
       "      <td>NaN</td>\n",
       "      <td>NaT</td>\n",
       "    </tr>\n",
       "    <tr>\n",
       "      <th>3</th>\n",
       "      <td>1002755</td>\n",
       "      <td>NaN</td>\n",
       "      <td>85098326012</td>\n",
       "      <td>unconfirmed</td>\n",
       "      <td>Garry</td>\n",
       "      <td>Brooklyn</td>\n",
       "      <td>Clinton Hill</td>\n",
       "      <td>40.68514</td>\n",
       "      <td>-73.95976</td>\n",
       "      <td>United States</td>\n",
       "      <td>US</td>\n",
       "      <td>True</td>\n",
       "      <td>moderate</td>\n",
       "      <td>Entire home/apt</td>\n",
       "      <td>2005.0</td>\n",
       "      <td>368.0</td>\n",
       "      <td>74.0</td>\n",
       "      <td>30.0</td>\n",
       "      <td>270.0</td>\n",
       "      <td>7/5/2019</td>\n",
       "      <td>4.64</td>\n",
       "      <td>4.0</td>\n",
       "      <td>1.0</td>\n",
       "      <td>322.0</td>\n",
       "      <td>NaN</td>\n",
       "      <td>NaN</td>\n",
       "      <td>2019-07-05</td>\n",
       "    </tr>\n",
       "    <tr>\n",
       "      <th>4</th>\n",
       "      <td>1003689</td>\n",
       "      <td>Entire Apt: Spacious Studio/Loft by central park</td>\n",
       "      <td>92037596077</td>\n",
       "      <td>verified</td>\n",
       "      <td>Lyndon</td>\n",
       "      <td>Manhattan</td>\n",
       "      <td>East Harlem</td>\n",
       "      <td>40.79851</td>\n",
       "      <td>-73.94399</td>\n",
       "      <td>United States</td>\n",
       "      <td>US</td>\n",
       "      <td>False</td>\n",
       "      <td>moderate</td>\n",
       "      <td>Entire home/apt</td>\n",
       "      <td>2009.0</td>\n",
       "      <td>204.0</td>\n",
       "      <td>41.0</td>\n",
       "      <td>10.0</td>\n",
       "      <td>9.0</td>\n",
       "      <td>11/19/2018</td>\n",
       "      <td>0.10</td>\n",
       "      <td>3.0</td>\n",
       "      <td>1.0</td>\n",
       "      <td>289.0</td>\n",
       "      <td>Please no smoking in the house, porch or on th...</td>\n",
       "      <td>NaN</td>\n",
       "      <td>2018-11-19</td>\n",
       "    </tr>\n",
       "  </tbody>\n",
       "</table>\n",
       "</div>"
      ],
      "text/plain": [
       "        id                                              NAME      host id  \\\n",
       "0  1001254                Clean & quiet apt home by the park  80014485718   \n",
       "1  1002102                             Skylit Midtown Castle  52335172823   \n",
       "2  1002403               THE VILLAGE OF HARLEM....NEW YORK !  78829239556   \n",
       "3  1002755                                               NaN  85098326012   \n",
       "4  1003689  Entire Apt: Spacious Studio/Loft by central park  92037596077   \n",
       "\n",
       "  host_identity_verified host name neighbourhood group neighbourhood  \\\n",
       "0            unconfirmed  Madaline            Brooklyn    Kensington   \n",
       "1               verified     Jenna           Manhattan       Midtown   \n",
       "2                    NaN     Elise           Manhattan        Harlem   \n",
       "3            unconfirmed     Garry            Brooklyn  Clinton Hill   \n",
       "4               verified    Lyndon           Manhattan   East Harlem   \n",
       "\n",
       "        lat      long        country country code  \\\n",
       "0  40.64749 -73.97237  United States           US   \n",
       "1  40.75362 -73.98377  United States           US   \n",
       "2  40.80902 -73.94190  United States           US   \n",
       "3  40.68514 -73.95976  United States           US   \n",
       "4  40.79851 -73.94399  United States           US   \n",
       "\n",
       "  can_book_w/out_host_approval cancellation_policy        room type  \\\n",
       "0                        False              strict     Private room   \n",
       "1                        False            moderate  Entire home/apt   \n",
       "2                         True            flexible     Private room   \n",
       "3                         True            moderate  Entire home/apt   \n",
       "4                        False            moderate  Entire home/apt   \n",
       "\n",
       "   Construction year  price  service fee  minimum nights  number of reviews  \\\n",
       "0             2020.0  966.0        193.0            10.0                9.0   \n",
       "1             2007.0  142.0         28.0            30.0               45.0   \n",
       "2             2005.0  620.0        124.0             3.0                0.0   \n",
       "3             2005.0  368.0         74.0            30.0              270.0   \n",
       "4             2009.0  204.0         41.0            10.0                9.0   \n",
       "\n",
       "  last review  reviews per month  review rate number  \\\n",
       "0  10/19/2021               0.21                 4.0   \n",
       "1   5/21/2022               0.38                 4.0   \n",
       "2         NaN                NaN                 5.0   \n",
       "3    7/5/2019               4.64                 4.0   \n",
       "4  11/19/2018               0.10                 3.0   \n",
       "\n",
       "   calculated host listings count  days_avaialable_next_365days  \\\n",
       "0                             6.0                         286.0   \n",
       "1                             2.0                         228.0   \n",
       "2                             1.0                         352.0   \n",
       "3                             1.0                         322.0   \n",
       "4                             1.0                         289.0   \n",
       "\n",
       "                                         house_rules license # last review   \n",
       "0  Clean up and treat the home the way you'd like...       NaN   2021-10-19  \n",
       "1  Pet friendly but please confirm with me if the...       NaN   2022-05-21  \n",
       "2  I encourage you to use my kitchen, cooking and...       NaN          NaT  \n",
       "3                                                NaN       NaN   2019-07-05  \n",
       "4  Please no smoking in the house, porch or on th...       NaN   2018-11-19  "
      ]
     },
     "execution_count": 620,
     "metadata": {},
     "output_type": "execute_result"
    }
   ],
   "source": [
    "pd.set_option('display.max_columns', None)\n",
    "\n",
    "df.head()"
   ]
  },
  {
   "cell_type": "code",
   "execution_count": 621,
   "id": "a6684356-63ee-4228-8fe3-b31cdc0ab9bc",
   "metadata": {
    "tags": []
   },
   "outputs": [
    {
     "data": {
      "text/html": [
       "<div>\n",
       "<style scoped>\n",
       "    .dataframe tbody tr th:only-of-type {\n",
       "        vertical-align: middle;\n",
       "    }\n",
       "\n",
       "    .dataframe tbody tr th {\n",
       "        vertical-align: top;\n",
       "    }\n",
       "\n",
       "    .dataframe thead th {\n",
       "        text-align: right;\n",
       "    }\n",
       "</style>\n",
       "<table border=\"1\" class=\"dataframe\">\n",
       "  <thead>\n",
       "    <tr style=\"text-align: right;\">\n",
       "      <th></th>\n",
       "      <th>id</th>\n",
       "      <th>host id</th>\n",
       "      <th>lat</th>\n",
       "      <th>long</th>\n",
       "      <th>Construction year</th>\n",
       "      <th>price</th>\n",
       "      <th>service fee</th>\n",
       "      <th>minimum nights</th>\n",
       "      <th>number of reviews</th>\n",
       "      <th>reviews per month</th>\n",
       "      <th>review rate number</th>\n",
       "      <th>calculated host listings count</th>\n",
       "      <th>days_avaialable_next_365days</th>\n",
       "      <th>last review</th>\n",
       "    </tr>\n",
       "  </thead>\n",
       "  <tbody>\n",
       "    <tr>\n",
       "      <th>count</th>\n",
       "      <td>1.025990e+05</td>\n",
       "      <td>1.025990e+05</td>\n",
       "      <td>102591.000000</td>\n",
       "      <td>102591.000000</td>\n",
       "      <td>102385.000000</td>\n",
       "      <td>102352.000000</td>\n",
       "      <td>102326.000000</td>\n",
       "      <td>102177.000000</td>\n",
       "      <td>102416.000000</td>\n",
       "      <td>86720.000000</td>\n",
       "      <td>102273.000000</td>\n",
       "      <td>102280.000000</td>\n",
       "      <td>102151.000000</td>\n",
       "      <td>86706</td>\n",
       "    </tr>\n",
       "    <tr>\n",
       "      <th>mean</th>\n",
       "      <td>2.914623e+07</td>\n",
       "      <td>4.925411e+10</td>\n",
       "      <td>40.728094</td>\n",
       "      <td>-73.949644</td>\n",
       "      <td>2012.487464</td>\n",
       "      <td>625.293536</td>\n",
       "      <td>125.026924</td>\n",
       "      <td>8.156219</td>\n",
       "      <td>27.483743</td>\n",
       "      <td>1.374022</td>\n",
       "      <td>3.279106</td>\n",
       "      <td>7.936605</td>\n",
       "      <td>141.133254</td>\n",
       "      <td>2019-06-12 03:40:52.065601024</td>\n",
       "    </tr>\n",
       "    <tr>\n",
       "      <th>min</th>\n",
       "      <td>1.001254e+06</td>\n",
       "      <td>1.236005e+08</td>\n",
       "      <td>40.499790</td>\n",
       "      <td>-74.249840</td>\n",
       "      <td>2003.000000</td>\n",
       "      <td>50.000000</td>\n",
       "      <td>10.000000</td>\n",
       "      <td>1.000000</td>\n",
       "      <td>0.000000</td>\n",
       "      <td>0.010000</td>\n",
       "      <td>1.000000</td>\n",
       "      <td>1.000000</td>\n",
       "      <td>-10.000000</td>\n",
       "      <td>2012-07-11 00:00:00</td>\n",
       "    </tr>\n",
       "    <tr>\n",
       "      <th>25%</th>\n",
       "      <td>1.508581e+07</td>\n",
       "      <td>2.458333e+10</td>\n",
       "      <td>40.688740</td>\n",
       "      <td>-73.982580</td>\n",
       "      <td>2007.000000</td>\n",
       "      <td>340.000000</td>\n",
       "      <td>68.000000</td>\n",
       "      <td>2.000000</td>\n",
       "      <td>1.000000</td>\n",
       "      <td>0.220000</td>\n",
       "      <td>2.000000</td>\n",
       "      <td>1.000000</td>\n",
       "      <td>3.000000</td>\n",
       "      <td>2018-10-28 00:00:00</td>\n",
       "    </tr>\n",
       "    <tr>\n",
       "      <th>50%</th>\n",
       "      <td>2.913660e+07</td>\n",
       "      <td>4.911774e+10</td>\n",
       "      <td>40.722290</td>\n",
       "      <td>-73.954440</td>\n",
       "      <td>2012.000000</td>\n",
       "      <td>624.000000</td>\n",
       "      <td>125.000000</td>\n",
       "      <td>3.000000</td>\n",
       "      <td>7.000000</td>\n",
       "      <td>0.740000</td>\n",
       "      <td>3.000000</td>\n",
       "      <td>1.000000</td>\n",
       "      <td>96.000000</td>\n",
       "      <td>2019-06-14 00:00:00</td>\n",
       "    </tr>\n",
       "    <tr>\n",
       "      <th>75%</th>\n",
       "      <td>4.320120e+07</td>\n",
       "      <td>7.399650e+10</td>\n",
       "      <td>40.762760</td>\n",
       "      <td>-73.932350</td>\n",
       "      <td>2017.000000</td>\n",
       "      <td>913.000000</td>\n",
       "      <td>183.000000</td>\n",
       "      <td>5.000000</td>\n",
       "      <td>30.000000</td>\n",
       "      <td>2.000000</td>\n",
       "      <td>4.000000</td>\n",
       "      <td>2.000000</td>\n",
       "      <td>269.000000</td>\n",
       "      <td>2019-07-05 00:00:00</td>\n",
       "    </tr>\n",
       "    <tr>\n",
       "      <th>max</th>\n",
       "      <td>5.736742e+07</td>\n",
       "      <td>9.876313e+10</td>\n",
       "      <td>40.916970</td>\n",
       "      <td>-73.705220</td>\n",
       "      <td>2022.000000</td>\n",
       "      <td>1200.000000</td>\n",
       "      <td>240.000000</td>\n",
       "      <td>5645.000000</td>\n",
       "      <td>1024.000000</td>\n",
       "      <td>90.000000</td>\n",
       "      <td>5.000000</td>\n",
       "      <td>332.000000</td>\n",
       "      <td>3677.000000</td>\n",
       "      <td>2058-06-16 00:00:00</td>\n",
       "    </tr>\n",
       "    <tr>\n",
       "      <th>std</th>\n",
       "      <td>1.625751e+07</td>\n",
       "      <td>2.853900e+10</td>\n",
       "      <td>0.055857</td>\n",
       "      <td>0.049521</td>\n",
       "      <td>5.765556</td>\n",
       "      <td>331.671614</td>\n",
       "      <td>66.325739</td>\n",
       "      <td>30.279301</td>\n",
       "      <td>49.508954</td>\n",
       "      <td>1.746621</td>\n",
       "      <td>1.284657</td>\n",
       "      <td>32.218780</td>\n",
       "      <td>135.435024</td>\n",
       "      <td>NaN</td>\n",
       "    </tr>\n",
       "  </tbody>\n",
       "</table>\n",
       "</div>"
      ],
      "text/plain": [
       "                 id       host id            lat           long  \\\n",
       "count  1.025990e+05  1.025990e+05  102591.000000  102591.000000   \n",
       "mean   2.914623e+07  4.925411e+10      40.728094     -73.949644   \n",
       "min    1.001254e+06  1.236005e+08      40.499790     -74.249840   \n",
       "25%    1.508581e+07  2.458333e+10      40.688740     -73.982580   \n",
       "50%    2.913660e+07  4.911774e+10      40.722290     -73.954440   \n",
       "75%    4.320120e+07  7.399650e+10      40.762760     -73.932350   \n",
       "max    5.736742e+07  9.876313e+10      40.916970     -73.705220   \n",
       "std    1.625751e+07  2.853900e+10       0.055857       0.049521   \n",
       "\n",
       "       Construction year          price    service fee  minimum nights  \\\n",
       "count      102385.000000  102352.000000  102326.000000   102177.000000   \n",
       "mean         2012.487464     625.293536     125.026924        8.156219   \n",
       "min          2003.000000      50.000000      10.000000        1.000000   \n",
       "25%          2007.000000     340.000000      68.000000        2.000000   \n",
       "50%          2012.000000     624.000000     125.000000        3.000000   \n",
       "75%          2017.000000     913.000000     183.000000        5.000000   \n",
       "max          2022.000000    1200.000000     240.000000     5645.000000   \n",
       "std             5.765556     331.671614      66.325739       30.279301   \n",
       "\n",
       "       number of reviews  reviews per month  review rate number  \\\n",
       "count      102416.000000       86720.000000       102273.000000   \n",
       "mean           27.483743           1.374022            3.279106   \n",
       "min             0.000000           0.010000            1.000000   \n",
       "25%             1.000000           0.220000            2.000000   \n",
       "50%             7.000000           0.740000            3.000000   \n",
       "75%            30.000000           2.000000            4.000000   \n",
       "max          1024.000000          90.000000            5.000000   \n",
       "std            49.508954           1.746621            1.284657   \n",
       "\n",
       "       calculated host listings count  days_avaialable_next_365days  \\\n",
       "count                   102280.000000                 102151.000000   \n",
       "mean                         7.936605                    141.133254   \n",
       "min                          1.000000                    -10.000000   \n",
       "25%                          1.000000                      3.000000   \n",
       "50%                          1.000000                     96.000000   \n",
       "75%                          2.000000                    269.000000   \n",
       "max                        332.000000                   3677.000000   \n",
       "std                         32.218780                    135.435024   \n",
       "\n",
       "                        last review   \n",
       "count                          86706  \n",
       "mean   2019-06-12 03:40:52.065601024  \n",
       "min              2012-07-11 00:00:00  \n",
       "25%              2018-10-28 00:00:00  \n",
       "50%              2019-06-14 00:00:00  \n",
       "75%              2019-07-05 00:00:00  \n",
       "max              2058-06-16 00:00:00  \n",
       "std                              NaN  "
      ]
     },
     "execution_count": 621,
     "metadata": {},
     "output_type": "execute_result"
    }
   ],
   "source": [
    "df.describe()"
   ]
  },
  {
   "cell_type": "markdown",
   "id": "a3187c71-00a9-4e75-ab09-7a5e67350a28",
   "metadata": {},
   "source": [
    "Examining value counts to see if there are any inconsistencies or values that need cleaning:"
   ]
  },
  {
   "cell_type": "code",
   "execution_count": 622,
   "id": "bbe08f9c-9722-4764-9ea1-01dae103cd18",
   "metadata": {
    "tags": []
   },
   "outputs": [
    {
     "data": {
      "text/plain": [
       "neighbourhood group\n",
       "Manhattan        43792\n",
       "Brooklyn         41842\n",
       "Queens           13267\n",
       "Bronx             2712\n",
       "Staten Island      955\n",
       "brookln              1\n",
       "manhatan             1\n",
       "Name: count, dtype: int64"
      ]
     },
     "execution_count": 622,
     "metadata": {},
     "output_type": "execute_result"
    }
   ],
   "source": [
    "df['neighbourhood group'].value_counts()"
   ]
  },
  {
   "cell_type": "markdown",
   "id": "81f1c2bc-0d45-4b65-ba85-cc9c6cb5398c",
   "metadata": {
    "tags": []
   },
   "source": [
    "###### ** The value 'manhatan' needs to be included with 'Manhattan' instead of being it's own value,\n",
    "###### ** same with 'brookln' needing to be included w/ 'Brooklyn'."
   ]
  },
  {
   "cell_type": "markdown",
   "id": "31493de1-9b40-48af-a38c-c43cb2885a71",
   "metadata": {},
   "source": [
    "##### Coding to fix the above:"
   ]
  },
  {
   "cell_type": "code",
   "execution_count": 623,
   "id": "53296067-bbca-4e12-ad66-fa425d87d88d",
   "metadata": {
    "tags": []
   },
   "outputs": [],
   "source": [
    "df['neighbourhood group'].replace({'manhatan': 'Manhattan'}, inplace=True)"
   ]
  },
  {
   "cell_type": "code",
   "execution_count": 624,
   "id": "a0f36651-e300-431d-98e1-61a95627e4af",
   "metadata": {
    "tags": []
   },
   "outputs": [],
   "source": [
    "df['neighbourhood group'].replace({'brookln': 'Brooklyn'}, inplace=True)"
   ]
  },
  {
   "cell_type": "markdown",
   "id": "ad19bf43-c27a-4e4d-afcc-8f1e7450b48e",
   "metadata": {},
   "source": [
    "##### Checking to make sure it's updated:"
   ]
  },
  {
   "cell_type": "code",
   "execution_count": 625,
   "id": "c91e4c9d-d5b3-4fb0-a7b6-cf83f3668b97",
   "metadata": {
    "tags": []
   },
   "outputs": [
    {
     "data": {
      "text/plain": [
       "neighbourhood group\n",
       "Manhattan        43793\n",
       "Brooklyn         41843\n",
       "Queens           13267\n",
       "Bronx             2712\n",
       "Staten Island      955\n",
       "Name: count, dtype: int64"
      ]
     },
     "execution_count": 625,
     "metadata": {},
     "output_type": "execute_result"
    }
   ],
   "source": [
    "df['neighbourhood group'].value_counts()"
   ]
  },
  {
   "cell_type": "markdown",
   "id": "666e3c46-0303-438e-9eef-60df56dcd192",
   "metadata": {
    "tags": []
   },
   "source": [
    "### Exploratory Data Analysis (EDA)"
   ]
  },
  {
   "cell_type": "markdown",
   "id": "fec149e3-f9ff-4081-9c07-3a0a51cdea46",
   "metadata": {},
   "source": [
    "##### Assuming I am presenting to a family of 4 who are looking to go on a trip to NYC sometime this upcoming year, I will determine the best information to present in order for them to make a data-backed decision on which place to rent. The family would love to be close to kid friendly activites like Central Park, the lego store, etc. for the kids. They care about making sure they have a private room, making sure it is in a highly rated location (assuming the highest rated would include good ratings for safety), making sure it has a lenient cancellation policy in case something comes up with the kids, and also factoring in only budget friendly properties (thier budget is $800  per night). They have hired me to determine the best options for them to look at when choosing which property they will rent. "
   ]
  },
  {
   "cell_type": "markdown",
   "id": "9cb8ae98-fefa-4da3-baff-95dcff7a10a3",
   "metadata": {
    "tags": []
   },
   "source": [
    "##### Reminding myself of the columns I have to work with:"
   ]
  },
  {
   "cell_type": "code",
   "execution_count": 626,
   "id": "14ef9288-6994-4838-be92-5156210b046a",
   "metadata": {
    "tags": []
   },
   "outputs": [
    {
     "data": {
      "text/plain": [
       "id                                         int64\n",
       "NAME                                      object\n",
       "host id                                    int64\n",
       "host_identity_verified                    object\n",
       "host name                                 object\n",
       "neighbourhood group                       object\n",
       "neighbourhood                             object\n",
       "lat                                      float64\n",
       "long                                     float64\n",
       "country                                   object\n",
       "country code                              object\n",
       "can_book_w/out_host_approval              object\n",
       "cancellation_policy                       object\n",
       "room type                                 object\n",
       "Construction year                        float64\n",
       "price                                    float64\n",
       "service fee                              float64\n",
       "minimum nights                           float64\n",
       "number of reviews                        float64\n",
       "last review                               object\n",
       "reviews per month                        float64\n",
       "review rate number                       float64\n",
       "calculated host listings count           float64\n",
       "days_avaialable_next_365days             float64\n",
       "house_rules                               object\n",
       "license #                                 object\n",
       "last review                       datetime64[ns]\n",
       "dtype: object"
      ]
     },
     "execution_count": 626,
     "metadata": {},
     "output_type": "execute_result"
    }
   ],
   "source": [
    "df.dtypes"
   ]
  },
  {
   "cell_type": "markdown",
   "id": "fac440ea-d515-46bf-aa6a-fc60c836ad09",
   "metadata": {},
   "source": [
    "##### First, I am going to make some visualizations representing comparison and takeaways on the entire data:"
   ]
  },
  {
   "cell_type": "code",
   "execution_count": 627,
   "id": "cf92cc98-436f-4d55-a078-ff3613a9130b",
   "metadata": {
    "tags": []
   },
   "outputs": [
    {
     "data": {
      "image/png": "[encoded data removed]",
      "text/plain": [
       "<Figure size 1200x500 with 1 Axes>"
      ]
     },
     "metadata": {},
     "output_type": "display_data"
    }
   ],
   "source": [
    "plt.figure(figsize = (12, 5))\n",
    "\n",
    "sns.barplot(x = df['neighbourhood group'],\n",
    "            y = df['price'],\n",
    "            palette = 'BrBG',\n",
    "           errorbar = None);\n",
    "\n",
    "plt.title('Average Price By Neighborhood')\n",
    "plt.xlabel('Neighborhood')\n",
    "plt.ylabel('Price')\n",
    "\n",
    "plt.savefig('images/averagepricebyneighborhood.png')"
   ]
  },
  {
   "cell_type": "markdown",
   "id": "f7c233cc-5431-41c7-905d-d45658ab6a32",
   "metadata": {
    "tags": []
   },
   "source": [
    "###### ** This output is telling me that properties in each of the neighborhoods have similar pricing, since the average price is pretty even across the board, so there are options for properties in budget within any of the neighborhoods."
   ]
  },
  {
   "cell_type": "code",
   "execution_count": 628,
   "id": "ee4f672f-8b79-4db7-ab02-e5632a9df474",
   "metadata": {
    "tags": []
   },
   "outputs": [
    {
     "data": {
      "image/png": "[encoded data removed]",
      "text/plain": [
       "<Figure size 640x480 with 1 Axes>"
      ]
     },
     "metadata": {},
     "output_type": "display_data"
    }
   ],
   "source": [
    "sns.countplot(x = df['neighbourhood group'],\n",
    "              hue = df['room type'],\n",
    "              palette = 'RdPu',\n",
    "              order = df['neighbourhood group'].value_counts().index)\n",
    "\n",
    "plt.title('Room Types By Neighborhood')\n",
    "plt.xlabel('Neighborhood')\n",
    "plt.ylabel('Amount W/ That Room Type');\n",
    "\n",
    "plt.savefig('images/roomtypesbyneighborhood.png')"
   ]
  },
  {
   "cell_type": "markdown",
   "id": "045e473c-c31d-4814-9445-529d0a5665c5",
   "metadata": {
    "tags": []
   },
   "source": [
    "###### ** This output is telling me that Brooklyn has the most options for private rooms, with Manhattan as a close second. "
   ]
  },
  {
   "cell_type": "code",
   "execution_count": 629,
   "id": "4cfdcba2-7524-48d0-b19f-de8e2c08f877",
   "metadata": {
    "tags": []
   },
   "outputs": [
    {
     "data": {
      "image/png": "[encoded data removed]",
      "text/plain": [
       "<Figure size 640x480 with 1 Axes>"
      ]
     },
     "metadata": {},
     "output_type": "display_data"
    }
   ],
   "source": [
    "sns.countplot(x = df['neighbourhood group'],\n",
    "              hue = df['review rate number'],\n",
    "              palette = 'Pastel1',\n",
    "              order = df['neighbourhood group'].value_counts().index)\n",
    "\n",
    "plt.title('Room Types By Neighborhood')\n",
    "plt.xlabel('Neighborhood')\n",
    "plt.ylabel('Amount W/ Each Rating');\n",
    "\n",
    "plt.savefig('images/roomtypesbyrating.png')"
   ]
  },
  {
   "cell_type": "markdown",
   "id": "8e64d3cd-38ec-4061-ad95-456a8fb854fd",
   "metadata": {
    "tags": []
   },
   "source": [
    "###### ** This output tells me that Manhattan and Brooklyn each have a healthy amount of options with a 4 or 5 rating, compared to the other neighborhoods."
   ]
  },
  {
   "cell_type": "markdown",
   "id": "6ebcb3f7-70f5-4f17-9099-3d0384a1f8a7",
   "metadata": {},
   "source": [
    "##### Then, I will filter down the data to the factors that the family cares about the most, and sort to see the data in the most valuable way:"
   ]
  },
  {
   "cell_type": "code",
   "execution_count": 630,
   "id": "226d4cb4-e788-4d92-b806-7b29a64c0780",
   "metadata": {
    "tags": []
   },
   "outputs": [],
   "source": [
    "high_rating_data = df.loc[(df['review rate number'] > 3) & (df['room type'] == 'Private room') & (df['cancellation_policy'] == 'flexible'), :]"
   ]
  },
  {
   "cell_type": "code",
   "execution_count": 631,
   "id": "0743ca21-5359-472b-8872-172d94de939b",
   "metadata": {
    "tags": []
   },
   "outputs": [],
   "source": [
    "high_rating_data_m = df.loc[(df['review rate number'] > 3) & (df['room type'] == 'Private room') & (df['price'] < 800) & (df['neighbourhood group'] == 'Manhattan') & (df['cancellation_policy'] == 'flexible'), :]"
   ]
  },
  {
   "cell_type": "code",
   "execution_count": 632,
   "id": "14338ccf-b0c5-438f-afe7-4c35f8bb0e7b",
   "metadata": {
    "tags": []
   },
   "outputs": [],
   "source": [
    "high_rating_data_b = df.loc[(df['review rate number'] > 3) & (df['room type'] == 'Private room') & (df['price'] < 800) & (df['neighbourhood group'] == 'Brooklyn') & (df['cancellation_policy'] == 'flexible'), :]"
   ]
  },
  {
   "cell_type": "markdown",
   "id": "2ccf1a48-f2ae-4bc7-b24d-01c57479a094",
   "metadata": {},
   "source": [
    "##### Considering this family is concerned about safety, I'd like to see how the host being verified relates to the rating number. I'd like to see the correlation between the two in order to determine if we need to add an additional filter of only hosts that are verified, if that is a major factor in the place getting a good review."
   ]
  },
  {
   "cell_type": "markdown",
   "id": "e8875770-5489-4f83-b323-37aa03536378",
   "metadata": {},
   "source": [
    "##### Changing the verified values to 1 and the unconfirmed values to 0 in order to put into a heat map."
   ]
  },
  {
   "cell_type": "code",
   "execution_count": 633,
   "id": "24452196-6ac7-4b95-bd8c-917e51311240",
   "metadata": {
    "tags": []
   },
   "outputs": [],
   "source": [
    "df['host_identity_verified'] = df['host_identity_verified'].replace({'verified': 1, 'unconfirmed': 0})"
   ]
  },
  {
   "cell_type": "markdown",
   "id": "15c3179d-e404-469c-af25-33d283e11b98",
   "metadata": {},
   "source": [
    "##### Plotting a heat map to show if there is a strong correlation:"
   ]
  },
  {
   "cell_type": "code",
   "execution_count": 634,
   "id": "509d60c4-0807-42a0-b8f0-c06285579bcf",
   "metadata": {
    "tags": []
   },
   "outputs": [
    {
     "data": {
      "image/png": "[encoded data removed]",
      "text/plain": [
       "<Figure size 1300x500 with 2 Axes>"
      ]
     },
     "metadata": {},
     "output_type": "display_data"
    }
   ],
   "source": [
    "plt.figure(figsize = (13, 5))\n",
    "\n",
    "corr = df.corr(numeric_only = True)\n",
    "\n",
    "mask = np.zeros_like(corr) \n",
    "mask[np.triu_indices_from(mask)] = True\n",
    "\n",
    "sns.heatmap(corr,\n",
    "           annot = True, \n",
    "           cmap = 'cubehelix', \n",
    "           vmax = 1,\n",
    "           vmin = -1,  \n",
    "           mask = mask);  \n",
    "\n",
    "plt.title('Correlations: Each Column To The Others')\n",
    "\n",
    "plt.xticks(rotation=45)\n",
    "\n",
    "plt.savefig('images/heatmapverifiedtorating.png')"
   ]
  },
  {
   "cell_type": "markdown",
   "id": "76c3f038-0efb-438a-a5db-f5bfd970571e",
   "metadata": {
    "tags": []
   },
   "source": [
    "##### Looking at just properties that have a 4 or 5 star rating, to see which neighborhood has more options:"
   ]
  },
  {
   "cell_type": "markdown",
   "id": "6abc86f2-fe95-43be-8c95-9207430d0d7e",
   "metadata": {
    "tags": []
   },
   "source": [
    "###### ** This output tells me that a host being verified is NOT a strong contributing factor to the place getting a good review. I have decided not to create a seperate filter to only show properties where hosts are verified before presenting the recommendaiton to the family, as it does not seem to be relevent. "
   ]
  },
  {
   "cell_type": "code",
   "execution_count": 635,
   "id": "9299ae32-637c-4780-9d19-c69485e7b622",
   "metadata": {
    "tags": []
   },
   "outputs": [
    {
     "data": {
      "image/png": "[encoded data removed]",
      "text/plain": [
       "<Figure size 640x480 with 1 Axes>"
      ]
     },
     "metadata": {},
     "output_type": "display_data"
    }
   ],
   "source": [
    "sns.countplot(x = df['neighbourhood group'],\n",
    "              hue = df['cancellation_policy'],\n",
    "              palette = 'Pastel1',\n",
    "              order = df['neighbourhood group'].value_counts().index)\n",
    "\n",
    "plt.title('Cancellation Policies By Neighborhood')\n",
    "plt.xlabel('Neighborhood')\n",
    "plt.ylabel('Amount Of Properties');\n",
    "\n",
    "plt.savefig('images/cancellatinpoliciesbyneighborhodcountplot.png')"
   ]
  },
  {
   "cell_type": "markdown",
   "id": "0c0ac62a-d775-4b3b-bec9-127bb9e43e3b",
   "metadata": {
    "tags": []
   },
   "source": [
    "###### ** This output is telling me that Manhattan, with Brooklyn as a close second, has the most properties available with a flexible cancellation policy."
   ]
  },
  {
   "cell_type": "markdown",
   "id": "b9659343-3f5a-453f-8851-efd6e41073c9",
   "metadata": {},
   "source": [
    "##### Next, I will create visualizations to help compare the data related to the factors they care about:"
   ]
  },
  {
   "cell_type": "code",
   "execution_count": 636,
   "id": "bedd99e7-3a41-44ed-82a3-bf386719ea1a",
   "metadata": {
    "tags": []
   },
   "outputs": [
    {
     "data": {
      "image/png": "[encoded data removed]",
      "text/plain": [
       "<Figure size 640x480 with 1 Axes>"
      ]
     },
     "metadata": {},
     "output_type": "display_data"
    }
   ],
   "source": [
    "sns.barplot(x=high_rating_data_m['neighbourhood group'],\n",
    "            y=high_rating_data_m['days_avaialable_next_365days'],\n",
    "            palette='viridis',\n",
    "           errorbar = None)\n",
    "\n",
    "plt.title('Availability: Options That Fit Criteria In Manhattan')\n",
    "plt.xlabel('Neighborhood')\n",
    "plt.ylabel('Amount Available W/in Next 365 Days');\n",
    "\n",
    "plt.savefig('images/availabilitymanhattan.png')"
   ]
  },
  {
   "cell_type": "code",
   "execution_count": 637,
   "id": "8a61e958-6a0b-4d73-ba40-975448c0f2b9",
   "metadata": {
    "tags": []
   },
   "outputs": [
    {
     "data": {
      "image/png": "[encoded data removed]",
      "text/plain": [
       "<Figure size 640x480 with 1 Axes>"
      ]
     },
     "metadata": {},
     "output_type": "display_data"
    }
   ],
   "source": [
    "sns.barplot(x=high_rating_data_b['neighbourhood group'],\n",
    "            y=high_rating_data_b['days_avaialable_next_365days'],\n",
    "            palette='viridis',\n",
    "           errorbar = None)\n",
    "\n",
    "plt.title('Availability: Options That Fit Criteria In Brooklyn')\n",
    "plt.xlabel('Neighborhood')\n",
    "plt.ylabel('Amount Available W/in Next 365 Days');\n",
    "\n",
    "plt.savefig('images/availabilitybrooklyn.png')"
   ]
  },
  {
   "cell_type": "markdown",
   "id": "0c1e8668-0ea8-4095-a2ef-3969ff5213e0",
   "metadata": {
    "tags": []
   },
   "source": [
    "###### ** These outputs are telling me that both Brooklyn & Manhattan have over 120 options available that fit the family's criteria. "
   ]
  },
  {
   "cell_type": "markdown",
   "id": "47df16e6-7139-4a77-beb7-a2f2f154b512",
   "metadata": {},
   "source": [
    "##### Finally, I will make an analysis on the best properties to rent and present to them in the deck to follow."
   ]
  },
  {
   "cell_type": "markdown",
   "id": "a05c937d-010b-4bec-a770-9f5d55edf773",
   "metadata": {
    "tags": []
   },
   "source": [
    "### Summary / Analysis "
   ]
  },
  {
   "cell_type": "markdown",
   "id": "58f323ef-096f-4ce3-95a5-8639d05f1b32",
   "metadata": {
    "tags": []
   },
   "source": [
    "##### Looking at the filtered data set, based on the factors defined as important to the family:"
   ]
  },
  {
   "cell_type": "code",
   "execution_count": 638,
   "id": "d36a4b8d-2cf3-401c-ba57-14417aa5017d",
   "metadata": {
    "tags": []
   },
   "outputs": [],
   "source": [
    "high_rating_data = df.loc[(df['review rate number'] > 3) & (df['room type'] == 'Private room') & (df['price'] < 800) & (df['neighbourhood group'] == 'Manhattan') & (df['cancellation_policy'] == 'flexible'), :]\n",
    "\n",
    "high_rating_data.to_csv('data/cleaned_data.csv')"
   ]
  },
  {
   "cell_type": "markdown",
   "id": "d0c947b5-39ee-4ffb-9788-13a76da8742a",
   "metadata": {},
   "source": [
    "Filtering by number of reviews to help give the client confidence in the accuracy of the review rate based on the amount of people giving the high reviews. Also filtering to show the top 5 options:"
   ]
  },
  {
   "cell_type": "code",
   "execution_count": 639,
   "id": "d971de9b-70c4-4df4-ad6b-40d258fe1494",
   "metadata": {
    "tags": []
   },
   "outputs": [
    {
     "data": {
      "text/html": [
       "<div>\n",
       "<style scoped>\n",
       "    .dataframe tbody tr th:only-of-type {\n",
       "        vertical-align: middle;\n",
       "    }\n",
       "\n",
       "    .dataframe tbody tr th {\n",
       "        vertical-align: top;\n",
       "    }\n",
       "\n",
       "    .dataframe thead th {\n",
       "        text-align: right;\n",
       "    }\n",
       "</style>\n",
       "<table border=\"1\" class=\"dataframe\">\n",
       "  <thead>\n",
       "    <tr style=\"text-align: right;\">\n",
       "      <th></th>\n",
       "      <th>id</th>\n",
       "      <th>NAME</th>\n",
       "      <th>host id</th>\n",
       "      <th>host_identity_verified</th>\n",
       "      <th>host name</th>\n",
       "      <th>neighbourhood group</th>\n",
       "      <th>neighbourhood</th>\n",
       "      <th>lat</th>\n",
       "      <th>long</th>\n",
       "      <th>country</th>\n",
       "      <th>country code</th>\n",
       "      <th>can_book_w/out_host_approval</th>\n",
       "      <th>cancellation_policy</th>\n",
       "      <th>room type</th>\n",
       "      <th>Construction year</th>\n",
       "      <th>price</th>\n",
       "      <th>service fee</th>\n",
       "      <th>minimum nights</th>\n",
       "      <th>number of reviews</th>\n",
       "      <th>last review</th>\n",
       "      <th>reviews per month</th>\n",
       "      <th>review rate number</th>\n",
       "      <th>calculated host listings count</th>\n",
       "      <th>days_avaialable_next_365days</th>\n",
       "      <th>house_rules</th>\n",
       "      <th>license #</th>\n",
       "      <th>last review</th>\n",
       "    </tr>\n",
       "  </thead>\n",
       "  <tbody>\n",
       "    <tr>\n",
       "      <th>49653</th>\n",
       "      <td>28424688</td>\n",
       "      <td>Come catch a Broadway Show &amp; stay in Times Square</td>\n",
       "      <td>20032806094</td>\n",
       "      <td>1.0</td>\n",
       "      <td>M</td>\n",
       "      <td>Manhattan</td>\n",
       "      <td>Theater District</td>\n",
       "      <td>40.76360</td>\n",
       "      <td>-73.98473</td>\n",
       "      <td>United States</td>\n",
       "      <td>US</td>\n",
       "      <td>False</td>\n",
       "      <td>flexible</td>\n",
       "      <td>Private room</td>\n",
       "      <td>2008.0</td>\n",
       "      <td>89.0</td>\n",
       "      <td>18.0</td>\n",
       "      <td>1.0</td>\n",
       "      <td>849.0</td>\n",
       "      <td>3/3/2022</td>\n",
       "      <td>90.00</td>\n",
       "      <td>4.0</td>\n",
       "      <td>12.0</td>\n",
       "      <td>361.0</td>\n",
       "      <td>NaN</td>\n",
       "      <td>NaN</td>\n",
       "      <td>2022-03-03</td>\n",
       "    </tr>\n",
       "    <tr>\n",
       "      <th>55870</th>\n",
       "      <td>31858337</td>\n",
       "      <td>Spacious Room in East Village Architect’s Home</td>\n",
       "      <td>82506894270</td>\n",
       "      <td>0.0</td>\n",
       "      <td>Sne</td>\n",
       "      <td>Manhattan</td>\n",
       "      <td>East Village</td>\n",
       "      <td>40.72737</td>\n",
       "      <td>-73.98936</td>\n",
       "      <td>United States</td>\n",
       "      <td>US</td>\n",
       "      <td>False</td>\n",
       "      <td>flexible</td>\n",
       "      <td>Private room</td>\n",
       "      <td>2019.0</td>\n",
       "      <td>606.0</td>\n",
       "      <td>121.0</td>\n",
       "      <td>1.0</td>\n",
       "      <td>556.0</td>\n",
       "      <td>1/31/2022</td>\n",
       "      <td>6.64</td>\n",
       "      <td>4.0</td>\n",
       "      <td>1.0</td>\n",
       "      <td>165.0</td>\n",
       "      <td>NaN</td>\n",
       "      <td>NaN</td>\n",
       "      <td>2022-01-31</td>\n",
       "    </tr>\n",
       "    <tr>\n",
       "      <th>226</th>\n",
       "      <td>1126156</td>\n",
       "      <td>PRIVATE Room on Historic Sugar Hill</td>\n",
       "      <td>46480721644</td>\n",
       "      <td>0.0</td>\n",
       "      <td>Allen</td>\n",
       "      <td>Manhattan</td>\n",
       "      <td>Harlem</td>\n",
       "      <td>40.82510</td>\n",
       "      <td>-73.94287</td>\n",
       "      <td>United States</td>\n",
       "      <td>US</td>\n",
       "      <td>True</td>\n",
       "      <td>flexible</td>\n",
       "      <td>Private room</td>\n",
       "      <td>2011.0</td>\n",
       "      <td>186.0</td>\n",
       "      <td>37.0</td>\n",
       "      <td>1.0</td>\n",
       "      <td>458.0</td>\n",
       "      <td>7/3/2019</td>\n",
       "      <td>4.58</td>\n",
       "      <td>4.0</td>\n",
       "      <td>2.0</td>\n",
       "      <td>338.0</td>\n",
       "      <td>- Animaux sur place (lapins) - respect du vois...</td>\n",
       "      <td>NaN</td>\n",
       "      <td>2019-07-03</td>\n",
       "    </tr>\n",
       "    <tr>\n",
       "      <th>2093</th>\n",
       "      <td>2157300</td>\n",
       "      <td>East Village Gay Friendly Dbl Room</td>\n",
       "      <td>53069174711</td>\n",
       "      <td>0.0</td>\n",
       "      <td>Seth</td>\n",
       "      <td>Manhattan</td>\n",
       "      <td>East Village</td>\n",
       "      <td>40.72836</td>\n",
       "      <td>-73.98163</td>\n",
       "      <td>United States</td>\n",
       "      <td>US</td>\n",
       "      <td>False</td>\n",
       "      <td>flexible</td>\n",
       "      <td>Private room</td>\n",
       "      <td>2010.0</td>\n",
       "      <td>560.0</td>\n",
       "      <td>112.0</td>\n",
       "      <td>1.0</td>\n",
       "      <td>414.0</td>\n",
       "      <td>6/22/2019</td>\n",
       "      <td>5.39</td>\n",
       "      <td>4.0</td>\n",
       "      <td>2.0</td>\n",
       "      <td>240.0</td>\n",
       "      <td>NaN</td>\n",
       "      <td>NaN</td>\n",
       "      <td>2019-06-22</td>\n",
       "    </tr>\n",
       "    <tr>\n",
       "      <th>70269</th>\n",
       "      <td>39810905</td>\n",
       "      <td>East Village Gay Friendly Dbl Room</td>\n",
       "      <td>3728304066</td>\n",
       "      <td>1.0</td>\n",
       "      <td>Seth</td>\n",
       "      <td>Manhattan</td>\n",
       "      <td>East Village</td>\n",
       "      <td>40.72836</td>\n",
       "      <td>-73.98163</td>\n",
       "      <td>United States</td>\n",
       "      <td>US</td>\n",
       "      <td>False</td>\n",
       "      <td>flexible</td>\n",
       "      <td>Private room</td>\n",
       "      <td>2010.0</td>\n",
       "      <td>560.0</td>\n",
       "      <td>112.0</td>\n",
       "      <td>1.0</td>\n",
       "      <td>414.0</td>\n",
       "      <td>6/22/2019</td>\n",
       "      <td>5.39</td>\n",
       "      <td>4.0</td>\n",
       "      <td>2.0</td>\n",
       "      <td>231.0</td>\n",
       "      <td>NaN</td>\n",
       "      <td>NaN</td>\n",
       "      <td>2019-06-22</td>\n",
       "    </tr>\n",
       "  </tbody>\n",
       "</table>\n",
       "</div>"
      ],
      "text/plain": [
       "             id                                               NAME  \\\n",
       "49653  28424688  Come catch a Broadway Show & stay in Times Square   \n",
       "55870  31858337     Spacious Room in East Village Architect’s Home   \n",
       "226     1126156                PRIVATE Room on Historic Sugar Hill   \n",
       "2093    2157300                 East Village Gay Friendly Dbl Room   \n",
       "70269  39810905                 East Village Gay Friendly Dbl Room   \n",
       "\n",
       "           host id  host_identity_verified host name neighbourhood group  \\\n",
       "49653  20032806094                     1.0         M           Manhattan   \n",
       "55870  82506894270                     0.0       Sne           Manhattan   \n",
       "226    46480721644                     0.0     Allen           Manhattan   \n",
       "2093   53069174711                     0.0      Seth           Manhattan   \n",
       "70269   3728304066                     1.0      Seth           Manhattan   \n",
       "\n",
       "          neighbourhood       lat      long        country country code  \\\n",
       "49653  Theater District  40.76360 -73.98473  United States           US   \n",
       "55870      East Village  40.72737 -73.98936  United States           US   \n",
       "226              Harlem  40.82510 -73.94287  United States           US   \n",
       "2093       East Village  40.72836 -73.98163  United States           US   \n",
       "70269      East Village  40.72836 -73.98163  United States           US   \n",
       "\n",
       "      can_book_w/out_host_approval cancellation_policy     room type  \\\n",
       "49653                        False            flexible  Private room   \n",
       "55870                        False            flexible  Private room   \n",
       "226                           True            flexible  Private room   \n",
       "2093                         False            flexible  Private room   \n",
       "70269                        False            flexible  Private room   \n",
       "\n",
       "       Construction year  price  service fee  minimum nights  \\\n",
       "49653             2008.0   89.0         18.0             1.0   \n",
       "55870             2019.0  606.0        121.0             1.0   \n",
       "226               2011.0  186.0         37.0             1.0   \n",
       "2093              2010.0  560.0        112.0             1.0   \n",
       "70269             2010.0  560.0        112.0             1.0   \n",
       "\n",
       "       number of reviews last review  reviews per month  review rate number  \\\n",
       "49653              849.0    3/3/2022              90.00                 4.0   \n",
       "55870              556.0   1/31/2022               6.64                 4.0   \n",
       "226                458.0    7/3/2019               4.58                 4.0   \n",
       "2093               414.0   6/22/2019               5.39                 4.0   \n",
       "70269              414.0   6/22/2019               5.39                 4.0   \n",
       "\n",
       "       calculated host listings count  days_avaialable_next_365days  \\\n",
       "49653                            12.0                         361.0   \n",
       "55870                             1.0                         165.0   \n",
       "226                               2.0                         338.0   \n",
       "2093                              2.0                         240.0   \n",
       "70269                             2.0                         231.0   \n",
       "\n",
       "                                             house_rules license #  \\\n",
       "49653                                                NaN       NaN   \n",
       "55870                                                NaN       NaN   \n",
       "226    - Animaux sur place (lapins) - respect du vois...       NaN   \n",
       "2093                                                 NaN       NaN   \n",
       "70269                                                NaN       NaN   \n",
       "\n",
       "      last review   \n",
       "49653   2022-03-03  \n",
       "55870   2022-01-31  \n",
       "226     2019-07-03  \n",
       "2093    2019-06-22  \n",
       "70269   2019-06-22  "
      ]
     },
     "execution_count": 639,
     "metadata": {},
     "output_type": "execute_result"
    }
   ],
   "source": [
    "high_rating_data.sort_values(by = 'number of reviews', ascending = False).head(5)"
   ]
  },
  {
   "cell_type": "markdown",
   "id": "a3dc7e54-3bbb-41df-8a86-e24905e4980d",
   "metadata": {
    "tags": []
   },
   "source": [
    "###### ** This output shows the top five properties in the fitered data set that represents the family's criteria."
   ]
  },
  {
   "cell_type": "markdown",
   "id": "2e7f2f06-04bb-4ac2-b38c-94494a2c8d59",
   "metadata": {
    "tags": []
   },
   "source": [
    "#### My recommendation is that the family consider property Ids 50715, 67913, 2236, 4932, and 53229 as the top 5 properties for the family trip, and then continue down the filtered new list to see more."
   ]
  },
  {
   "cell_type": "markdown",
   "id": "4decafcf-9716-47ec-9b48-7020056db535",
   "metadata": {},
   "source": [
    "##### I came to this conclusion by ensuring the following was taken into consideration:"
   ]
  },
  {
   "cell_type": "markdown",
   "id": "ada49a55-9dcd-4f7d-bbe6-8bd43aad129e",
   "metadata": {},
   "source": [
    "##### 1) The data showed Manhattan and Brooklyn both had similar pricing.\n",
    "##### 2) Manhattan and Brooklyn both had a healthy selection of rooms with 4 or 5 star ratings\n",
    "##### 3) Brooklyn had a better selection of properties with private rooms to choose from.\n",
    "##### 4) Considering the family was worried about safety, I checked the correlation of how the host's identity being verified impacts the review rate. I came to the conclusion that there is not a high impact.\n",
    "##### 5) Manhattan and Brooklyn both have over 120 options available within the next 365 days that fit the criteria.\n",
    "##### 6) Given Brooklyn and Manhattan having a similar amount of options within the criteria requested, and taking into consideration the request that they'd like to be near Central Park, Lego Land, etc., I would recommend Manhattan as the more ideal location due to being closer to the chosen activities.\n",
    "##### 7) Out of all the options in Manhattan that fit the family's criteria, I recommend property Ids 50715, 67913, 2236, 4932, and 53229, being the properties in the final data set with the most reivews. This helps give peace of mind to the accuracy of the review rate based on many people giving the high reviews (rather than just a few)."
   ]
  }
 ],
 "metadata": {
  "kernelspec": {
   "display_name": "Python 3 (ipykernel)",
   "language": "python",
   "name": "python3"
  },
  "language_info": {
   "codemirror_mode": {
    "name": "ipython",
    "version": 3
   },
   "file_extension": ".py",
   "mimetype": "text/x-python",
   "name": "python",
   "nbconvert_exporter": "python",
   "pygments_lexer": "ipython3",
   "version": "3.11.5"
  }
 },
 "nbformat": 4,
 "nbformat_minor": 5
}
